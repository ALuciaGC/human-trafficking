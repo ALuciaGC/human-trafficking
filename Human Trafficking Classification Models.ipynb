{
 "cells": [
  {
   "cell_type": "code",
   "execution_count": 615,
   "metadata": {},
   "outputs": [],
   "source": [
    "import matplotlib.pyplot as plt\n",
    "import numpy as np\n",
    "import pandas as pd\n",
    "import seaborn as sns\n",
    "\n",
    "%matplotlib inline"
   ]
  },
  {
   "cell_type": "code",
   "execution_count": 1183,
   "metadata": {},
   "outputs": [
    {
     "name": "stderr",
     "output_type": "stream",
     "text": [
      "C:\\Users\\algc_\\Anaconda3\\lib\\site-packages\\IPython\\core\\interactiveshell.py:3058: DtypeWarning: Columns (54) have mixed types. Specify dtype option on import or set low_memory=False.\n",
      "  interactivity=interactivity, compiler=compiler, result=result)\n"
     ]
    }
   ],
   "source": [
    "data = pd.read_csv('./Downloads/The Global Dataset 3 Sept 2018.csv',\n",
    "                   infer_datetime_format=True)"
   ]
  },
  {
   "cell_type": "code",
   "execution_count": 1184,
   "metadata": {},
   "outputs": [
    {
     "data": {
      "text/html": [
       "<div>\n",
       "<style scoped>\n",
       "    .dataframe tbody tr th:only-of-type {\n",
       "        vertical-align: middle;\n",
       "    }\n",
       "\n",
       "    .dataframe tbody tr th {\n",
       "        vertical-align: top;\n",
       "    }\n",
       "\n",
       "    .dataframe thead th {\n",
       "        text-align: right;\n",
       "    }\n",
       "</style>\n",
       "<table border=\"1\" class=\"dataframe\">\n",
       "  <thead>\n",
       "    <tr style=\"text-align: right;\">\n",
       "      <th></th>\n",
       "      <th>By using this data you agree to the Terms of Use: https://www.ctdatacollaborative.org/terms-use</th>\n",
       "      <th>yearOfRegistration</th>\n",
       "      <th>Datasource</th>\n",
       "      <th>gender</th>\n",
       "      <th>ageBroad</th>\n",
       "      <th>majorityStatus</th>\n",
       "      <th>majorityStatusAtExploit</th>\n",
       "      <th>majorityEntry</th>\n",
       "      <th>citizenship</th>\n",
       "      <th>meansOfControlDebtBondage</th>\n",
       "      <th>...</th>\n",
       "      <th>typeOfSexPrivateSexualServices</th>\n",
       "      <th>typeOfSexConcatenated</th>\n",
       "      <th>isAbduction</th>\n",
       "      <th>RecruiterRelationship</th>\n",
       "      <th>CountryOfExploitation</th>\n",
       "      <th>recruiterRelationIntimatePartner</th>\n",
       "      <th>recruiterRelationFriend</th>\n",
       "      <th>recruiterRelationFamily</th>\n",
       "      <th>recruiterRelationOther</th>\n",
       "      <th>recruiterRelationUnknown</th>\n",
       "    </tr>\n",
       "  </thead>\n",
       "  <tbody>\n",
       "    <tr>\n",
       "      <th>0</th>\n",
       "      <td>NaN</td>\n",
       "      <td>2002</td>\n",
       "      <td>Case Management</td>\n",
       "      <td>-99</td>\n",
       "      <td>-99</td>\n",
       "      <td>-99</td>\n",
       "      <td>-99</td>\n",
       "      <td>-99</td>\n",
       "      <td>-99</td>\n",
       "      <td>-99</td>\n",
       "      <td>...</td>\n",
       "      <td>-99</td>\n",
       "      <td>-99</td>\n",
       "      <td>-99</td>\n",
       "      <td>Unknown</td>\n",
       "      <td>-99</td>\n",
       "      <td>0</td>\n",
       "      <td>0</td>\n",
       "      <td>0</td>\n",
       "      <td>0</td>\n",
       "      <td>1</td>\n",
       "    </tr>\n",
       "    <tr>\n",
       "      <th>1</th>\n",
       "      <td>NaN</td>\n",
       "      <td>2002</td>\n",
       "      <td>Case Management</td>\n",
       "      <td>-99</td>\n",
       "      <td>-99</td>\n",
       "      <td>-99</td>\n",
       "      <td>-99</td>\n",
       "      <td>-99</td>\n",
       "      <td>-99</td>\n",
       "      <td>-99</td>\n",
       "      <td>...</td>\n",
       "      <td>-99</td>\n",
       "      <td>-99</td>\n",
       "      <td>-99</td>\n",
       "      <td>Unknown</td>\n",
       "      <td>-99</td>\n",
       "      <td>0</td>\n",
       "      <td>0</td>\n",
       "      <td>0</td>\n",
       "      <td>0</td>\n",
       "      <td>1</td>\n",
       "    </tr>\n",
       "    <tr>\n",
       "      <th>2</th>\n",
       "      <td>NaN</td>\n",
       "      <td>2002</td>\n",
       "      <td>Case Management</td>\n",
       "      <td>-99</td>\n",
       "      <td>-99</td>\n",
       "      <td>-99</td>\n",
       "      <td>-99</td>\n",
       "      <td>-99</td>\n",
       "      <td>-99</td>\n",
       "      <td>-99</td>\n",
       "      <td>...</td>\n",
       "      <td>-99</td>\n",
       "      <td>-99</td>\n",
       "      <td>-99</td>\n",
       "      <td>Unknown</td>\n",
       "      <td>-99</td>\n",
       "      <td>0</td>\n",
       "      <td>0</td>\n",
       "      <td>0</td>\n",
       "      <td>0</td>\n",
       "      <td>1</td>\n",
       "    </tr>\n",
       "    <tr>\n",
       "      <th>3</th>\n",
       "      <td>NaN</td>\n",
       "      <td>2002</td>\n",
       "      <td>Case Management</td>\n",
       "      <td>-99</td>\n",
       "      <td>-99</td>\n",
       "      <td>-99</td>\n",
       "      <td>-99</td>\n",
       "      <td>-99</td>\n",
       "      <td>-99</td>\n",
       "      <td>-99</td>\n",
       "      <td>...</td>\n",
       "      <td>-99</td>\n",
       "      <td>-99</td>\n",
       "      <td>-99</td>\n",
       "      <td>Unknown</td>\n",
       "      <td>-99</td>\n",
       "      <td>0</td>\n",
       "      <td>0</td>\n",
       "      <td>0</td>\n",
       "      <td>0</td>\n",
       "      <td>1</td>\n",
       "    </tr>\n",
       "    <tr>\n",
       "      <th>4</th>\n",
       "      <td>NaN</td>\n",
       "      <td>2002</td>\n",
       "      <td>Case Management</td>\n",
       "      <td>-99</td>\n",
       "      <td>-99</td>\n",
       "      <td>-99</td>\n",
       "      <td>-99</td>\n",
       "      <td>-99</td>\n",
       "      <td>-99</td>\n",
       "      <td>-99</td>\n",
       "      <td>...</td>\n",
       "      <td>-99</td>\n",
       "      <td>-99</td>\n",
       "      <td>-99</td>\n",
       "      <td>Unknown</td>\n",
       "      <td>-99</td>\n",
       "      <td>0</td>\n",
       "      <td>0</td>\n",
       "      <td>0</td>\n",
       "      <td>0</td>\n",
       "      <td>1</td>\n",
       "    </tr>\n",
       "  </tbody>\n",
       "</table>\n",
       "<p>5 rows × 63 columns</p>\n",
       "</div>"
      ],
      "text/plain": [
       "   By using this data you agree to the Terms of Use: https://www.ctdatacollaborative.org/terms-use  \\\n",
       "0                                                NaN                                                 \n",
       "1                                                NaN                                                 \n",
       "2                                                NaN                                                 \n",
       "3                                                NaN                                                 \n",
       "4                                                NaN                                                 \n",
       "\n",
       "   yearOfRegistration       Datasource gender ageBroad majorityStatus  \\\n",
       "0                2002  Case Management    -99      -99            -99   \n",
       "1                2002  Case Management    -99      -99            -99   \n",
       "2                2002  Case Management    -99      -99            -99   \n",
       "3                2002  Case Management    -99      -99            -99   \n",
       "4                2002  Case Management    -99      -99            -99   \n",
       "\n",
       "  majorityStatusAtExploit majorityEntry citizenship  \\\n",
       "0                     -99           -99         -99   \n",
       "1                     -99           -99         -99   \n",
       "2                     -99           -99         -99   \n",
       "3                     -99           -99         -99   \n",
       "4                     -99           -99         -99   \n",
       "\n",
       "   meansOfControlDebtBondage  ...  typeOfSexPrivateSexualServices  \\\n",
       "0                        -99  ...                             -99   \n",
       "1                        -99  ...                             -99   \n",
       "2                        -99  ...                             -99   \n",
       "3                        -99  ...                             -99   \n",
       "4                        -99  ...                             -99   \n",
       "\n",
       "   typeOfSexConcatenated  isAbduction  RecruiterRelationship  \\\n",
       "0                    -99          -99                Unknown   \n",
       "1                    -99          -99                Unknown   \n",
       "2                    -99          -99                Unknown   \n",
       "3                    -99          -99                Unknown   \n",
       "4                    -99          -99                Unknown   \n",
       "\n",
       "   CountryOfExploitation  recruiterRelationIntimatePartner  \\\n",
       "0                    -99                                 0   \n",
       "1                    -99                                 0   \n",
       "2                    -99                                 0   \n",
       "3                    -99                                 0   \n",
       "4                    -99                                 0   \n",
       "\n",
       "   recruiterRelationFriend  recruiterRelationFamily  recruiterRelationOther  \\\n",
       "0                        0                        0                       0   \n",
       "1                        0                        0                       0   \n",
       "2                        0                        0                       0   \n",
       "3                        0                        0                       0   \n",
       "4                        0                        0                       0   \n",
       "\n",
       "   recruiterRelationUnknown  \n",
       "0                         1  \n",
       "1                         1  \n",
       "2                         1  \n",
       "3                         1  \n",
       "4                         1  \n",
       "\n",
       "[5 rows x 63 columns]"
      ]
     },
     "execution_count": 1184,
     "metadata": {},
     "output_type": "execute_result"
    }
   ],
   "source": [
    "data.head()"
   ]
  },
  {
   "cell_type": "code",
   "execution_count": 1185,
   "metadata": {
    "scrolled": true
   },
   "outputs": [
    {
     "name": "stdout",
     "output_type": "stream",
     "text": [
      "By using this data you agree to the Terms of Use: https://www.ctdatacollaborative.org/terms-use\n",
      "yearOfRegistration\n",
      "Datasource\n",
      "gender\n",
      "ageBroad\n",
      "majorityStatus\n",
      "majorityStatusAtExploit\n",
      "majorityEntry\n",
      "citizenship\n",
      "meansOfControlDebtBondage\n",
      "meansOfControlTakesEarnings\n",
      "meansOfControlRestrictsFinancialAccess\n",
      "meansOfControlThreats\n",
      "meansOfControlPsychologicalAbuse\n",
      "meansOfControlPhysicalAbuse\n",
      "meansOfControlSexualAbuse\n",
      "meansOfControlFalsePromises\n",
      "meansOfControlPsychoactiveSubstances\n",
      "meansOfControlRestrictsMovement\n",
      "meansOfControlRestrictsMedicalCare\n",
      "meansOfControlExcessiveWorkingHours\n",
      "meansOfControlUsesChildren\n",
      "meansOfControlThreatOfLawEnforcement\n",
      "meansOfControlWithholdsNecessities\n",
      "meansOfControlWithholdsDocuments\n",
      "meansOfControlOther\n",
      "meansOfControlNotSpecified\n",
      "meansOfControlConcatenated\n",
      "isForcedLabour\n",
      "isSexualExploit\n",
      "isOtherExploit\n",
      "isSexAndLabour\n",
      "isForcedMarriage\n",
      "isForcedMilitary\n",
      "isOrganRemoval\n",
      "typeOfExploitConcatenated\n",
      "typeOfLabourAgriculture\n",
      "typeOfLabourAquafarming\n",
      "typeOfLabourBegging\n",
      "typeOfLabourConstruction\n",
      "typeOfLabourDomesticWork\n",
      "typeOfLabourHospitality\n",
      "typeOfLabourIllicitActivities\n",
      "typeOfLabourManufacturing\n",
      "typeOfLabourMiningOrDrilling\n",
      "typeOfLabourPeddling\n",
      "typeOfLabourTransportation\n",
      "typeOfLabourOther\n",
      "typeOfLabourNotSpecified\n",
      "typeOfLabourConcatenated\n",
      "typeOfSexProstitution\n",
      "typeOfSexPornography\n",
      "typeOfSexRemoteInteractiveServices\n",
      "typeOfSexPrivateSexualServices\n",
      "typeOfSexConcatenated\n",
      "isAbduction\n",
      "RecruiterRelationship\n",
      "CountryOfExploitation\n",
      "recruiterRelationIntimatePartner\n",
      "recruiterRelationFriend\n",
      "recruiterRelationFamily\n",
      "recruiterRelationOther\n",
      "recruiterRelationUnknown\n"
     ]
    }
   ],
   "source": [
    "for col in data.columns: \n",
    "    print(col)"
   ]
  },
  {
   "cell_type": "code",
   "execution_count": 1186,
   "metadata": {},
   "outputs": [],
   "source": [
    "data.drop(['By using this data you agree to the Terms of Use: https://www.ctdatacollaborative.org/terms-use'],\n",
    "          axis=1, inplace=True)"
   ]
  },
  {
   "cell_type": "code",
   "execution_count": 1187,
   "metadata": {},
   "outputs": [
    {
     "data": {
      "text/plain": [
       "(55434, 62)"
      ]
     },
     "execution_count": 1187,
     "metadata": {},
     "output_type": "execute_result"
    }
   ],
   "source": [
    "data.shape"
   ]
  },
  {
   "cell_type": "code",
   "execution_count": 1188,
   "metadata": {},
   "outputs": [
    {
     "data": {
      "text/plain": [
       "yearOfRegistration                   int64\n",
       "Datasource                          object\n",
       "gender                              object\n",
       "ageBroad                            object\n",
       "majorityStatus                      object\n",
       "                                     ...  \n",
       "recruiterRelationIntimatePartner     int64\n",
       "recruiterRelationFriend              int64\n",
       "recruiterRelationFamily              int64\n",
       "recruiterRelationOther               int64\n",
       "recruiterRelationUnknown             int64\n",
       "Length: 62, dtype: object"
      ]
     },
     "execution_count": 1188,
     "metadata": {},
     "output_type": "execute_result"
    }
   ],
   "source": [
    "data.dtypes"
   ]
  },
  {
   "cell_type": "code",
   "execution_count": 1189,
   "metadata": {},
   "outputs": [
    {
     "data": {
      "text/plain": [
       "yearOfRegistration                  0\n",
       "Datasource                          0\n",
       "gender                              0\n",
       "ageBroad                            0\n",
       "majorityStatus                      0\n",
       "                                   ..\n",
       "recruiterRelationIntimatePartner    0\n",
       "recruiterRelationFriend             0\n",
       "recruiterRelationFamily             0\n",
       "recruiterRelationOther              0\n",
       "recruiterRelationUnknown            0\n",
       "Length: 62, dtype: int64"
      ]
     },
     "execution_count": 1189,
     "metadata": {},
     "output_type": "execute_result"
    }
   ],
   "source": [
    "data.isnull().sum()"
   ]
  },
  {
   "cell_type": "code",
   "execution_count": 1190,
   "metadata": {},
   "outputs": [
    {
     "data": {
      "text/plain": [
       " 0     40639\n",
       "-99    13121\n",
       " 1      1674\n",
       "Name: recruiterRelationFamily, dtype: int64"
      ]
     },
     "execution_count": 1190,
     "metadata": {},
     "output_type": "execute_result"
    }
   ],
   "source": [
    "data['recruiterRelationFamily'].value_counts()"
   ]
  },
  {
   "cell_type": "code",
   "execution_count": 1191,
   "metadata": {},
   "outputs": [],
   "source": [
    "for col in data.columns:\n",
    "    data.loc[data[col].isin([-99, '-99', 'Unknown', 'NaN']), col] = None"
   ]
  },
  {
   "cell_type": "code",
   "execution_count": 1192,
   "metadata": {},
   "outputs": [
    {
     "data": {
      "text/plain": [
       "0.0    40639\n",
       "1.0     1674\n",
       "Name: recruiterRelationFamily, dtype: int64"
      ]
     },
     "execution_count": 1192,
     "metadata": {},
     "output_type": "execute_result"
    }
   ],
   "source": [
    "data['recruiterRelationFamily'].value_counts()"
   ]
  },
  {
   "cell_type": "code",
   "execution_count": 1193,
   "metadata": {
    "scrolled": true
   },
   "outputs": [
    {
     "data": {
      "text/html": [
       "<div>\n",
       "<style scoped>\n",
       "    .dataframe tbody tr th:only-of-type {\n",
       "        vertical-align: middle;\n",
       "    }\n",
       "\n",
       "    .dataframe tbody tr th {\n",
       "        vertical-align: top;\n",
       "    }\n",
       "\n",
       "    .dataframe thead th {\n",
       "        text-align: right;\n",
       "    }\n",
       "</style>\n",
       "<table border=\"1\" class=\"dataframe\">\n",
       "  <thead>\n",
       "    <tr style=\"text-align: right;\">\n",
       "      <th></th>\n",
       "      <th>yearOfRegistration</th>\n",
       "      <th>Datasource</th>\n",
       "      <th>gender</th>\n",
       "      <th>ageBroad</th>\n",
       "      <th>majorityStatus</th>\n",
       "      <th>majorityStatusAtExploit</th>\n",
       "      <th>majorityEntry</th>\n",
       "      <th>citizenship</th>\n",
       "      <th>meansOfControlDebtBondage</th>\n",
       "      <th>meansOfControlTakesEarnings</th>\n",
       "      <th>...</th>\n",
       "      <th>typeOfSexPrivateSexualServices</th>\n",
       "      <th>typeOfSexConcatenated</th>\n",
       "      <th>isAbduction</th>\n",
       "      <th>RecruiterRelationship</th>\n",
       "      <th>CountryOfExploitation</th>\n",
       "      <th>recruiterRelationIntimatePartner</th>\n",
       "      <th>recruiterRelationFriend</th>\n",
       "      <th>recruiterRelationFamily</th>\n",
       "      <th>recruiterRelationOther</th>\n",
       "      <th>recruiterRelationUnknown</th>\n",
       "    </tr>\n",
       "  </thead>\n",
       "  <tbody>\n",
       "    <tr>\n",
       "      <th>0</th>\n",
       "      <td>2002.0</td>\n",
       "      <td>Case Management</td>\n",
       "      <td>None</td>\n",
       "      <td>None</td>\n",
       "      <td>None</td>\n",
       "      <td>None</td>\n",
       "      <td>None</td>\n",
       "      <td>None</td>\n",
       "      <td>NaN</td>\n",
       "      <td>NaN</td>\n",
       "      <td>...</td>\n",
       "      <td>NaN</td>\n",
       "      <td>None</td>\n",
       "      <td>NaN</td>\n",
       "      <td>None</td>\n",
       "      <td>None</td>\n",
       "      <td>0.0</td>\n",
       "      <td>0.0</td>\n",
       "      <td>0.0</td>\n",
       "      <td>0.0</td>\n",
       "      <td>1.0</td>\n",
       "    </tr>\n",
       "    <tr>\n",
       "      <th>1</th>\n",
       "      <td>2002.0</td>\n",
       "      <td>Case Management</td>\n",
       "      <td>None</td>\n",
       "      <td>None</td>\n",
       "      <td>None</td>\n",
       "      <td>None</td>\n",
       "      <td>None</td>\n",
       "      <td>None</td>\n",
       "      <td>NaN</td>\n",
       "      <td>NaN</td>\n",
       "      <td>...</td>\n",
       "      <td>NaN</td>\n",
       "      <td>None</td>\n",
       "      <td>NaN</td>\n",
       "      <td>None</td>\n",
       "      <td>None</td>\n",
       "      <td>0.0</td>\n",
       "      <td>0.0</td>\n",
       "      <td>0.0</td>\n",
       "      <td>0.0</td>\n",
       "      <td>1.0</td>\n",
       "    </tr>\n",
       "  </tbody>\n",
       "</table>\n",
       "<p>2 rows × 62 columns</p>\n",
       "</div>"
      ],
      "text/plain": [
       "   yearOfRegistration       Datasource gender ageBroad majorityStatus  \\\n",
       "0              2002.0  Case Management   None     None           None   \n",
       "1              2002.0  Case Management   None     None           None   \n",
       "\n",
       "  majorityStatusAtExploit majorityEntry citizenship  \\\n",
       "0                    None          None        None   \n",
       "1                    None          None        None   \n",
       "\n",
       "   meansOfControlDebtBondage  meansOfControlTakesEarnings  ...  \\\n",
       "0                        NaN                          NaN  ...   \n",
       "1                        NaN                          NaN  ...   \n",
       "\n",
       "   typeOfSexPrivateSexualServices  typeOfSexConcatenated  isAbduction  \\\n",
       "0                             NaN                   None          NaN   \n",
       "1                             NaN                   None          NaN   \n",
       "\n",
       "   RecruiterRelationship  CountryOfExploitation  \\\n",
       "0                   None                   None   \n",
       "1                   None                   None   \n",
       "\n",
       "   recruiterRelationIntimatePartner  recruiterRelationFriend  \\\n",
       "0                               0.0                      0.0   \n",
       "1                               0.0                      0.0   \n",
       "\n",
       "   recruiterRelationFamily  recruiterRelationOther  recruiterRelationUnknown  \n",
       "0                      0.0                     0.0                       1.0  \n",
       "1                      0.0                     0.0                       1.0  \n",
       "\n",
       "[2 rows x 62 columns]"
      ]
     },
     "execution_count": 1193,
     "metadata": {},
     "output_type": "execute_result"
    }
   ],
   "source": [
    "data.head(2)"
   ]
  },
  {
   "cell_type": "code",
   "execution_count": 1194,
   "metadata": {
    "scrolled": true
   },
   "outputs": [
    {
     "data": {
      "text/plain": [
       "yearOfRegistration                      0\n",
       "Datasource                              0\n",
       "gender                                639\n",
       "ageBroad                            21213\n",
       "majorityStatus                      15323\n",
       "                                    ...  \n",
       "recruiterRelationIntimatePartner    13121\n",
       "recruiterRelationFriend             13121\n",
       "recruiterRelationFamily             13121\n",
       "recruiterRelationOther              13121\n",
       "recruiterRelationUnknown                0\n",
       "Length: 62, dtype: int64"
      ]
     },
     "execution_count": 1194,
     "metadata": {},
     "output_type": "execute_result"
    }
   ],
   "source": [
    "data.isnull().sum()"
   ]
  },
  {
   "cell_type": "code",
   "execution_count": 1195,
   "metadata": {},
   "outputs": [
    {
     "data": {
      "text/plain": [
       "73148.0"
      ]
     },
     "execution_count": 1195,
     "metadata": {},
     "output_type": "execute_result"
    }
   ],
   "source": [
    "# quantify features\n",
    "data['sum_mean_control'] = data[['meansOfControlDebtBondage', \n",
    "                                'meansOfControlTakesEarnings', \n",
    "                                'meansOfControlRestrictsFinancialAccess',\n",
    "                                'meansOfControlThreats', \n",
    "                                'meansOfControlPsychologicalAbuse',\n",
    "                                'meansOfControlSexualAbuse', \n",
    "                                'meansOfControlFalsePromises', \n",
    "                                'meansOfControlPhysicalAbuse',\n",
    "                                'meansOfControlPsychoactiveSubstances',\n",
    "                                'meansOfControlRestrictsMovement', \n",
    "                                'meansOfControlRestrictsMedicalCare', \n",
    "                                'meansOfControlExcessiveWorkingHours', \n",
    "                                'meansOfControlUsesChildren', \n",
    "                                'meansOfControlThreatOfLawEnforcement',\n",
    "                                'meansOfControlWithholdsNecessities',\n",
    "                                'meansOfControlWithholdsDocuments',\n",
    "                                'meansOfControlOther', \n",
    "                                'meansOfControlNotSpecified']].sum(axis=1)\n",
    "\n",
    "data['sum_mean_control'].sum()"
   ]
  },
  {
   "cell_type": "code",
   "execution_count": 1196,
   "metadata": {},
   "outputs": [
    {
     "data": {
      "text/plain": [
       "36471.0"
      ]
     },
     "execution_count": 1196,
     "metadata": {},
     "output_type": "execute_result"
    }
   ],
   "source": [
    "data['victim_count'] = data[['isForcedLabour', 'isSexualExploit', \n",
    "                             'isOtherExploit', 'isSexAndLabour',\n",
    "                             'isForcedMarriage', 'isForcedMilitary',\n",
    "                             'isOrganRemoval']].sum(axis=1)\n",
    "\n",
    "data['victim_count'].sum()"
   ]
  },
  {
   "cell_type": "code",
   "execution_count": 1197,
   "metadata": {},
   "outputs": [
    {
     "data": {
      "text/plain": [
       "7520.0"
      ]
     },
     "execution_count": 1197,
     "metadata": {},
     "output_type": "execute_result"
    }
   ],
   "source": [
    "data['sum_labor_exp'] = data[['typeOfLabourAgriculture', 'typeOfLabourAquafarming', \n",
    "                             'typeOfLabourBegging', 'typeOfLabourConstruction', \n",
    "                             'typeOfLabourDomesticWork', 'typeOfLabourHospitality', \n",
    "                             'typeOfLabourIllicitActivities', 'typeOfLabourManufacturing', \n",
    "                             'typeOfLabourMiningOrDrilling', 'typeOfLabourPeddling', \n",
    "                             'typeOfLabourTransportation', 'typeOfLabourOther', \n",
    "                             'typeOfLabourNotSpecified']].sum(axis=1)\n",
    "\n",
    "data['sum_labor_exp'].sum()"
   ]
  },
  {
   "cell_type": "code",
   "execution_count": 1198,
   "metadata": {},
   "outputs": [
    {
     "data": {
      "text/plain": [
       "5769.0"
      ]
     },
     "execution_count": 1198,
     "metadata": {},
     "output_type": "execute_result"
    }
   ],
   "source": [
    "data['sum_sex_exp'] = data[['typeOfSexProstitution', \n",
    "                            'typeOfSexPornography',\n",
    "                            'typeOfSexRemoteInteractiveServices', \n",
    "                            'typeOfSexPrivateSexualServices']].sum(axis=1)\n",
    "\n",
    "data['sum_sex_exp'].sum()"
   ]
  },
  {
   "cell_type": "code",
   "execution_count": 1199,
   "metadata": {},
   "outputs": [
    {
     "data": {
      "text/html": [
       "<div>\n",
       "<style scoped>\n",
       "    .dataframe tbody tr th:only-of-type {\n",
       "        vertical-align: middle;\n",
       "    }\n",
       "\n",
       "    .dataframe tbody tr th {\n",
       "        vertical-align: top;\n",
       "    }\n",
       "\n",
       "    .dataframe thead th {\n",
       "        text-align: right;\n",
       "    }\n",
       "</style>\n",
       "<table border=\"1\" class=\"dataframe\">\n",
       "  <thead>\n",
       "    <tr style=\"text-align: right;\">\n",
       "      <th></th>\n",
       "      <th>yearOfRegistration</th>\n",
       "      <th>Datasource</th>\n",
       "      <th>gender</th>\n",
       "      <th>ageBroad</th>\n",
       "      <th>majorityStatus</th>\n",
       "      <th>majorityStatusAtExploit</th>\n",
       "      <th>majorityEntry</th>\n",
       "      <th>citizenship</th>\n",
       "      <th>meansOfControlDebtBondage</th>\n",
       "      <th>meansOfControlTakesEarnings</th>\n",
       "      <th>...</th>\n",
       "      <th>CountryOfExploitation</th>\n",
       "      <th>recruiterRelationIntimatePartner</th>\n",
       "      <th>recruiterRelationFriend</th>\n",
       "      <th>recruiterRelationFamily</th>\n",
       "      <th>recruiterRelationOther</th>\n",
       "      <th>recruiterRelationUnknown</th>\n",
       "      <th>sum_mean_control</th>\n",
       "      <th>victim_count</th>\n",
       "      <th>sum_labor_exp</th>\n",
       "      <th>sum_sex_exp</th>\n",
       "    </tr>\n",
       "  </thead>\n",
       "  <tbody>\n",
       "    <tr>\n",
       "      <th>55432</th>\n",
       "      <td>2018.0</td>\n",
       "      <td>Case Management</td>\n",
       "      <td>Male</td>\n",
       "      <td>None</td>\n",
       "      <td>None</td>\n",
       "      <td>Minor</td>\n",
       "      <td>None</td>\n",
       "      <td>KH</td>\n",
       "      <td>0.0</td>\n",
       "      <td>0.0</td>\n",
       "      <td>...</td>\n",
       "      <td>KH</td>\n",
       "      <td>0.0</td>\n",
       "      <td>0.0</td>\n",
       "      <td>0.0</td>\n",
       "      <td>0.0</td>\n",
       "      <td>1.0</td>\n",
       "      <td>1.0</td>\n",
       "      <td>1.0</td>\n",
       "      <td>0.0</td>\n",
       "      <td>0.0</td>\n",
       "    </tr>\n",
       "    <tr>\n",
       "      <th>55433</th>\n",
       "      <td>2018.0</td>\n",
       "      <td>Case Management</td>\n",
       "      <td>Male</td>\n",
       "      <td>None</td>\n",
       "      <td>None</td>\n",
       "      <td>Adult</td>\n",
       "      <td>None</td>\n",
       "      <td>KH</td>\n",
       "      <td>0.0</td>\n",
       "      <td>0.0</td>\n",
       "      <td>...</td>\n",
       "      <td>KH</td>\n",
       "      <td>0.0</td>\n",
       "      <td>0.0</td>\n",
       "      <td>0.0</td>\n",
       "      <td>0.0</td>\n",
       "      <td>1.0</td>\n",
       "      <td>0.0</td>\n",
       "      <td>1.0</td>\n",
       "      <td>0.0</td>\n",
       "      <td>0.0</td>\n",
       "    </tr>\n",
       "  </tbody>\n",
       "</table>\n",
       "<p>2 rows × 66 columns</p>\n",
       "</div>"
      ],
      "text/plain": [
       "       yearOfRegistration       Datasource gender ageBroad majorityStatus  \\\n",
       "55432              2018.0  Case Management   Male     None           None   \n",
       "55433              2018.0  Case Management   Male     None           None   \n",
       "\n",
       "      majorityStatusAtExploit majorityEntry citizenship  \\\n",
       "55432                   Minor          None          KH   \n",
       "55433                   Adult          None          KH   \n",
       "\n",
       "       meansOfControlDebtBondage  meansOfControlTakesEarnings  ...  \\\n",
       "55432                        0.0                          0.0  ...   \n",
       "55433                        0.0                          0.0  ...   \n",
       "\n",
       "       CountryOfExploitation  recruiterRelationIntimatePartner  \\\n",
       "55432                     KH                               0.0   \n",
       "55433                     KH                               0.0   \n",
       "\n",
       "       recruiterRelationFriend  recruiterRelationFamily  \\\n",
       "55432                      0.0                      0.0   \n",
       "55433                      0.0                      0.0   \n",
       "\n",
       "       recruiterRelationOther  recruiterRelationUnknown  sum_mean_control  \\\n",
       "55432                     0.0                       1.0               1.0   \n",
       "55433                     0.0                       1.0               0.0   \n",
       "\n",
       "       victim_count  sum_labor_exp  sum_sex_exp  \n",
       "55432           1.0            0.0          0.0  \n",
       "55433           1.0            0.0          0.0  \n",
       "\n",
       "[2 rows x 66 columns]"
      ]
     },
     "execution_count": 1199,
     "metadata": {},
     "output_type": "execute_result"
    }
   ],
   "source": [
    "data.tail(2)"
   ]
  },
  {
   "cell_type": "code",
   "execution_count": 1201,
   "metadata": {},
   "outputs": [],
   "source": [
    "# eliminiate the features that are no longer useful:\n",
    "data.drop(['meansOfControlDebtBondage', 'meansOfControlTakesEarnings', \n",
    "           'meansOfControlRestrictsFinancialAccess', \n",
    "           'meansOfControlThreats', 'meansOfControlPsychologicalAbuse',\n",
    "           'meansOfControlPhysicalAbuse', 'meansOfControlSexualAbuse',\n",
    "           'meansOfControlFalsePromises', 'meansOfControlPsychoactiveSubstances',\n",
    "           'meansOfControlRestrictsMovement', 'meansOfControlRestrictsMedicalCare',\n",
    "           'meansOfControlExcessiveWorkingHours', 'meansOfControlUsesChildren',\n",
    "           'meansOfControlThreatOfLawEnforcement','meansOfControlWithholdsNecessities',\n",
    "           'meansOfControlWithholdsDocuments', 'meansOfControlOther',\n",
    "           'meansOfControlNotSpecified', 'isForcedLabour', 'isSexualExploit',\n",
    "           'isOtherExploit', 'isSexAndLabour', 'isForcedMarriage',\n",
    "           'isForcedMilitary', 'isOrganRemoval','typeOfLabourAgriculture',\n",
    "           'typeOfLabourAquafarming', 'typeOfLabourBegging',\n",
    "           'typeOfLabourConstruction', 'typeOfLabourDomesticWork',\n",
    "           'typeOfLabourHospitality', 'typeOfLabourIllicitActivities',\n",
    "           'typeOfLabourManufacturing', 'typeOfLabourMiningOrDrilling',\n",
    "           'typeOfLabourPeddling', 'typeOfLabourTransportation',\n",
    "           'typeOfLabourOther', 'typeOfLabourNotSpecified', \n",
    "           'typeOfSexProstitution', 'typeOfSexPornography',\n",
    "           'typeOfSexRemoteInteractiveServices', 'typeOfSexPrivateSexualServices',\n",
    "           'recruiterRelationIntimatePartner', 'recruiterRelationFriend',\n",
    "           'recruiterRelationFamily', 'recruiterRelationOther',\n",
    "           'recruiterRelationUnknown'], axis=1, inplace=True)"
   ]
  },
  {
   "cell_type": "code",
   "execution_count": 1202,
   "metadata": {},
   "outputs": [],
   "source": [
    "# changing the names\n",
    "data.rename({'yearOfRegistration': 'year_registration', 'Datasource':\n",
    "            'datasource', 'ageBroad': 'age', 'majorityStatus': \n",
    "            'majority_status', 'majorityStatusAtExploit': 'majority_exp',\n",
    "            'majorityEntry': 'majority_entry', 'meansOfControlConcatenated':\n",
    "            'means_control', 'typeOfExploitConcatenated': 'type_exploitation',\n",
    "            'typeOfLabourConcatenated': 'labor_exp', 'typeOfSexConcatenated':\n",
    "            'sexual_exp', 'isAbduction': 'is_abduction', 'RecruiterRelationship':\n",
    "            'recruiter_relationship', 'CountryOfExploitation': 'country_exploitation'},\n",
    "           axis=1, inplace=True)"
   ]
  },
  {
   "cell_type": "code",
   "execution_count": 1203,
   "metadata": {},
   "outputs": [
    {
     "data": {
      "text/plain": [
       "(55434, 19)"
      ]
     },
     "execution_count": 1203,
     "metadata": {},
     "output_type": "execute_result"
    }
   ],
   "source": [
    "data.shape"
   ]
  },
  {
   "cell_type": "code",
   "execution_count": 1204,
   "metadata": {
    "scrolled": true
   },
   "outputs": [
    {
     "data": {
      "text/plain": [
       "ZZ    12318\n",
       "PH    11433\n",
       "UA     7793\n",
       "MD     7499\n",
       "US     4159\n",
       "KH     1949\n",
       "ID     1947\n",
       "BY     1517\n",
       "MM     1281\n",
       "RO      685\n",
       "GH      545\n",
       "KG      449\n",
       "MX      444\n",
       "HT      352\n",
       "BG      342\n",
       "UZ      261\n",
       "AF      239\n",
       "VN      185\n",
       "GW      145\n",
       "TH      144\n",
       "LA      130\n",
       "CO      124\n",
       "NG      119\n",
       "CN      115\n",
       "MG       94\n",
       "LK       85\n",
       "SL       81\n",
       "TJ       77\n",
       "UG       70\n",
       "SN       70\n",
       "KZ       54\n",
       "CD       53\n",
       "AL       45\n",
       "ML       45\n",
       "BF       33\n",
       "CI       31\n",
       "NE       31\n",
       "NP       27\n",
       "TM       26\n",
       "BO       18\n",
       "GN       15\n",
       "IN       15\n",
       "ER       13\n",
       "KR       12\n",
       "BD       11\n",
       "SV       11\n",
       "Name: citizenship, dtype: int64"
      ]
     },
     "execution_count": 1204,
     "metadata": {},
     "output_type": "execute_result"
    }
   ],
   "source": [
    "data['citizenship'].value_counts()"
   ]
  },
  {
   "cell_type": "code",
   "execution_count": 1205,
   "metadata": {
    "scrolled": true
   },
   "outputs": [
    {
     "data": {
      "text/plain": [
       "US    16956\n",
       "MD     5698\n",
       "UA     5308\n",
       "RU     2787\n",
       "PH     1988\n",
       "ID     1776\n",
       "KH      983\n",
       "MY      907\n",
       "GH      545\n",
       "AE      515\n",
       "TH      453\n",
       "BY      381\n",
       "SN      370\n",
       "BG      356\n",
       "PL      352\n",
       "HT      339\n",
       "RO      273\n",
       "TR      262\n",
       "SA      257\n",
       "QA      239\n",
       "KZ      222\n",
       "Y1      211\n",
       "KW      210\n",
       "MK      194\n",
       "UZ      193\n",
       "ZZ      188\n",
       "BA      127\n",
       "JP      123\n",
       "UG      123\n",
       "JO      108\n",
       "TT       96\n",
       "MG       94\n",
       "OM       94\n",
       "TJ       88\n",
       "AF       84\n",
       "SL       81\n",
       "CN       79\n",
       "LB       78\n",
       "EC       54\n",
       "CZ       54\n",
       "AL       45\n",
       "SY       41\n",
       "SG       37\n",
       "ZA       36\n",
       "AR       36\n",
       "TW       33\n",
       "HK       31\n",
       "IT       28\n",
       "TM       26\n",
       "AT       24\n",
       "BH       22\n",
       "MU       20\n",
       "DK       17\n",
       "VN       16\n",
       "EG       13\n",
       "MX       13\n",
       "CY       12\n",
       "Name: country_exploitation, dtype: int64"
      ]
     },
     "execution_count": 1205,
     "metadata": {},
     "output_type": "execute_result"
    }
   ],
   "source": [
    "data['country_exploitation'].value_counts()"
   ]
  },
  {
   "cell_type": "code",
   "execution_count": 1206,
   "metadata": {},
   "outputs": [],
   "source": [
    "# both citizenship and origin_country are written with code\n",
    "# to import the codebook and substitute values:\n",
    "countries = pd.read_csv('./Downloads/Countries.csv', encoding='latin-1')"
   ]
  },
  {
   "cell_type": "code",
   "execution_count": 1207,
   "metadata": {
    "scrolled": true
   },
   "outputs": [
    {
     "data": {
      "text/plain": [
       "Philippines (the)                         11433\n",
       "Ukraine                                    7793\n",
       "Moldova (the Republic of)                  7499\n",
       "United States of America (the)             4159\n",
       "Cambodia                                   1949\n",
       "Indonesia                                  1947\n",
       "Belarus                                    1517\n",
       "Myanmar                                    1281\n",
       "Romania                                     685\n",
       "Ghana                                       545\n",
       "Kyrgyzstan                                  449\n",
       "Mexico                                      444\n",
       "Haiti                                       352\n",
       "Bulgaria                                    342\n",
       "Uzbekistan                                  261\n",
       "Afghanistan                                 239\n",
       "Viet Nam                                    185\n",
       "Guinea-Bissau                               145\n",
       "Thailand                                    144\n",
       "Lao People's Democratic Republic (the)      130\n",
       "Colombia                                    124\n",
       "Nigeria                                     119\n",
       "China                                       115\n",
       "Madagascar                                   94\n",
       "Sri Lanka                                    85\n",
       "Sierra Leone                                 81\n",
       "Tajikistan                                   77\n",
       "Senegal                                      70\n",
       "Uganda                                       70\n",
       "Kazakhstan                                   54\n",
       "Congo (the Democratic Republic of the)       53\n",
       "Mali                                         45\n",
       "Albania                                      45\n",
       "Burkina Faso                                 33\n",
       "Niger (the)                                  31\n",
       "Côte d'Ivoire                                31\n",
       "Nepal                                        27\n",
       "Turkmenistan                                 26\n",
       "Bolivia (Plurinational State of)             18\n",
       "India                                        15\n",
       "Guinea                                       15\n",
       "Eritrea                                      13\n",
       "Korea (the Republic of)                      12\n",
       "El Salvador                                  11\n",
       "Bangladesh                                   11\n",
       "Name: origin_country, dtype: int64"
      ]
     },
     "execution_count": 1207,
     "metadata": {},
     "output_type": "execute_result"
    }
   ],
   "source": [
    "data['origin_country'] = data['citizenship'].map(countries.set_index('pattern')['replacement'])\n",
    "data['origin_country'].value_counts()"
   ]
  },
  {
   "cell_type": "code",
   "execution_count": 1208,
   "metadata": {},
   "outputs": [
    {
     "name": "stderr",
     "output_type": "stream",
     "text": [
      "C:\\Users\\algc_\\Anaconda3\\lib\\site-packages\\seaborn\\categorical.py:3666: UserWarning: The `factorplot` function has been renamed to `catplot`. The original name will be removed in a future release. Please update your code. Note that the default `kind` in `factorplot` (`'point'`) has changed `'strip'` in `catplot`.\n",
      "  warnings.warn(msg)\n"
     ]
    },
    {
     "data": {
      "image/png": "[encoded data removed]",
      "text/plain": [
       "<Figure size 720x360 with 1 Axes>"
      ]
     },
     "metadata": {},
     "output_type": "display_data"
    }
   ],
   "source": [
    "victim_origin = sns.factorplot(data=data, x='origin_country', \n",
    "                               aspect=2.0, kind=\"count\")\n",
    "victim_origin.set_xticklabels(rotation=90)\n",
    "plt.show()"
   ]
  },
  {
   "cell_type": "code",
   "execution_count": 1209,
   "metadata": {},
   "outputs": [
    {
     "data": {
      "text/plain": [
       "Philippines (the)                 11433\n",
       "Ukraine                            7793\n",
       "Moldova (the Republic of)          7499\n",
       "United States of America (the)     4159\n",
       "Cambodia                           1949\n",
       "Indonesia                          1947\n",
       "Belarus                            1517\n",
       "Myanmar                            1281\n",
       "Name: origin_country, dtype: int64"
      ]
     },
     "execution_count": 1209,
     "metadata": {},
     "output_type": "execute_result"
    }
   ],
   "source": [
    "# creating two variables: one to count the entries in each country, and\n",
    "# the other to establish the criteria for the top countries.\n",
    "origin_counts = data['origin_country'].value_counts()\n",
    "highest_origin = origin_counts[origin_counts >= 1000]\n",
    "highest_origin\n",
    "origin_counts = data['origin_country'].value_counts()\n",
    "highest_origin = origin_counts[origin_counts >= 1000]\n",
    "highest_origin"
   ]
  },
  {
   "cell_type": "code",
   "execution_count": 1210,
   "metadata": {},
   "outputs": [
    {
     "data": {
      "text/plain": [
       "<matplotlib.axes._subplots.AxesSubplot at 0x25e2ae4b388>"
      ]
     },
     "execution_count": 1210,
     "metadata": {},
     "output_type": "execute_result"
    },
    {
     "data": {
      "image/png": "[encoded data removed]",
      "text/plain": [
       "<Figure size 1152x432 with 1 Axes>"
      ]
     },
     "metadata": {},
     "output_type": "display_data"
    }
   ],
   "source": [
    "highest_origin.plot(kind='bar', figsize=(16,6), rot=40, fontsize=14, color=('#F6C851'))"
   ]
  },
  {
   "cell_type": "code",
   "execution_count": 1211,
   "metadata": {
    "scrolled": true
   },
   "outputs": [
    {
     "data": {
      "text/plain": [
       "United States of America (the)    16956\n",
       "Moldova (the Republic of)          5698\n",
       "Ukraine                            5308\n",
       "Russian Federation (the)           2787\n",
       "Philippines (the)                  1988\n",
       "Indonesia                          1776\n",
       "Cambodia                            983\n",
       "Malaysia                            907\n",
       "Ghana                               545\n",
       "United Arab Emirates (the)          515\n",
       "Thailand                            453\n",
       "Belarus                             381\n",
       "Senegal                             370\n",
       "Bulgaria                            356\n",
       "Poland                              352\n",
       "Haiti                               339\n",
       "Romania                             273\n",
       "Turkey                              262\n",
       "Saudi Arabia                        257\n",
       "Qatar                               239\n",
       "Kazakhstan                          222\n",
       "Kuwait                              210\n",
       "North Macedonia                     194\n",
       "Uzbekistan                          193\n",
       "Bosnia and Herzegovina              127\n",
       "Japan                               123\n",
       "Uganda                              123\n",
       "Jordan                              108\n",
       "Trinidad and Tobago                  96\n",
       "Madagascar                           94\n",
       "Oman                                 94\n",
       "Tajikistan                           88\n",
       "Afghanistan                          84\n",
       "Sierra Leone                         81\n",
       "China                                79\n",
       "Lebanon                              78\n",
       "Czechia                              54\n",
       "Ecuador                              54\n",
       "Albania                              45\n",
       "Syrian Arab Republic (the)           41\n",
       "Singapore                            37\n",
       "Argentina                            36\n",
       "South Africa                         36\n",
       "Taiwan (Province of China)           33\n",
       "Hong Kong                            31\n",
       "Italy                                28\n",
       "Turkmenistan                         26\n",
       "Austria                              24\n",
       "Bahrain                              22\n",
       "Mauritius                            20\n",
       "Denmark                              17\n",
       "Viet Nam                             16\n",
       "Egypt                                13\n",
       "Mexico                               13\n",
       "Cyprus                               12\n",
       "Name: full_country_exp, dtype: int64"
      ]
     },
     "execution_count": 1211,
     "metadata": {},
     "output_type": "execute_result"
    }
   ],
   "source": [
    "data['full_country_exp'] = data['country_exploitation'].map(countries.set_index('pattern')['replacement'])\n",
    "data['full_country_exp'].value_counts()"
   ]
  },
  {
   "cell_type": "code",
   "execution_count": 1212,
   "metadata": {},
   "outputs": [
    {
     "data": {
      "image/png": "[encoded data removed]",
      "text/plain": [
       "<Figure size 720x360 with 1 Axes>"
      ]
     },
     "metadata": {},
     "output_type": "display_data"
    }
   ],
   "source": [
    "place_exploitation = sns.factorplot(data=data, x='full_country_exp', \n",
    "                               aspect=2.0, kind=\"count\")\n",
    "place_exploitation.set_xticklabels(rotation=90)\n",
    "plt.show()"
   ]
  },
  {
   "cell_type": "code",
   "execution_count": 1213,
   "metadata": {},
   "outputs": [
    {
     "data": {
      "text/plain": [
       "United States of America (the)    16956\n",
       "Moldova (the Republic of)          5698\n",
       "Ukraine                            5308\n",
       "Russian Federation (the)           2787\n",
       "Philippines (the)                  1988\n",
       "Indonesia                          1776\n",
       "Name: full_country_exp, dtype: int64"
      ]
     },
     "execution_count": 1213,
     "metadata": {},
     "output_type": "execute_result"
    }
   ],
   "source": [
    "# creating two variables: one to count the entries in each country, and\n",
    "# the other to establish the criteria for the top countries.\n",
    "exp_country_counts = data['full_country_exp'].value_counts()\n",
    "highest_cexp = exp_country_counts[exp_country_counts >= 1000]\n",
    "highest_cexp"
   ]
  },
  {
   "cell_type": "code",
   "execution_count": 1214,
   "metadata": {
    "scrolled": true
   },
   "outputs": [
    {
     "data": {
      "text/plain": [
       "<matplotlib.axes._subplots.AxesSubplot at 0x25e2ac35ec8>"
      ]
     },
     "execution_count": 1214,
     "metadata": {},
     "output_type": "execute_result"
    },
    {
     "data": {
      "image/png": "[encoded data removed]",
      "text/plain": [
       "<Figure size 1152x432 with 1 Axes>"
      ]
     },
     "metadata": {},
     "output_type": "display_data"
    }
   ],
   "source": [
    "highest_cexp.plot(kind='bar', figsize=(16,6), rot=40, fontsize=14, color=('#F6C851'))"
   ]
  },
  {
   "cell_type": "code",
   "execution_count": 1215,
   "metadata": {},
   "outputs": [
    {
     "data": {
      "text/plain": [
       "<matplotlib.axes._subplots.AxesSubplot at 0x25e2aea50c8>"
      ]
     },
     "execution_count": 1215,
     "metadata": {},
     "output_type": "execute_result"
    },
    {
     "data": {
      "image/png": "[encoded data removed]",
      "text/plain": [
       "<Figure size 1152x432 with 1 Axes>"
      ]
     },
     "metadata": {},
     "output_type": "display_data"
    }
   ],
   "source": [
    "# plot the most common types of exploitation by count:\n",
    "exp_counts = data['type_exploitation'].value_counts()\n",
    "highest_exp = exp_counts[exp_counts >= 200]\n",
    "highest_exp.plot(kind='bar', figsize=(16,6), rot=40, fontsize=14, color=('#F6C851'))"
   ]
  },
  {
   "cell_type": "code",
   "execution_count": 1216,
   "metadata": {},
   "outputs": [
    {
     "data": {
      "text/plain": [
       "Sexual exploitation                                                          18979\n",
       "Forced labour                                                                 9815\n",
       "Other                                                                         7066\n",
       "Slavery and similar practices                                                  374\n",
       "Forced marriage                                                                154\n",
       "Forced labour;Sexual exploitation;Combined sexual and labour exploitation      152\n",
       "Forced labour;Slavery and similar practices                                      1\n",
       "Name: type_exploitation, dtype: int64"
      ]
     },
     "execution_count": 1216,
     "metadata": {},
     "output_type": "execute_result"
    }
   ],
   "source": [
    "data['type_exploitation'].value_counts()"
   ]
  },
  {
   "cell_type": "code",
   "execution_count": 1219,
   "metadata": {
    "scrolled": true
   },
   "outputs": [
    {
     "data": {
      "text/plain": [
       "[Text(0, 0, 'Sexual'),\n",
       " Text(0, 0, 'Labor'),\n",
       " Text(0, 0, 'Other'),\n",
       " Text(0, 0, 'Slavery'),\n",
       " Text(0, 0, 'Forced Marriage'),\n",
       " Text(0, 0, 'Combined')]"
      ]
     },
     "execution_count": 1219,
     "metadata": {},
     "output_type": "execute_result"
    },
    {
     "data": {
      "image/png": "[encoded data removed]",
      "text/plain": [
       "<Figure size 842.4x595.44 with 1 Axes>"
      ]
     },
     "metadata": {},
     "output_type": "display_data"
    }
   ],
   "source": [
    "a4_dims = (11.7, 8.27)\n",
    "fig, ax = plt.subplots(figsize=a4_dims)\n",
    "chart = sns.countplot(x='type_exploitation',hue='gender', data=data, palette='colorblind')\n",
    "chart.set_xticklabels(labels=['Sexual', 'Labor', 'Other', 'Slavery', 'Forced Marriage', 'Combined'], rotation=40, fontsize=14)"
   ]
  },
  {
   "cell_type": "markdown",
   "metadata": {},
   "source": [
    "### Dummy variables"
   ]
  },
  {
   "cell_type": "code",
   "execution_count": 1220,
   "metadata": {},
   "outputs": [
    {
     "data": {
      "text/plain": [
       "Sexual exploitation                                                          18979\n",
       "Forced labour                                                                 9815\n",
       "Other                                                                         7066\n",
       "Slavery and similar practices                                                  374\n",
       "Forced marriage                                                                154\n",
       "Forced labour;Sexual exploitation;Combined sexual and labour exploitation      152\n",
       "Forced labour;Slavery and similar practices                                      1\n",
       "Name: type_exploitation, dtype: int64"
      ]
     },
     "execution_count": 1220,
     "metadata": {},
     "output_type": "execute_result"
    }
   ],
   "source": [
    "# creating dummy variables\n",
    "# first, entries:\n",
    "data['type_exploitation'].value_counts()"
   ]
  },
  {
   "cell_type": "code",
   "execution_count": 1221,
   "metadata": {
    "scrolled": true
   },
   "outputs": [
    {
     "data": {
      "text/html": [
       "<div>\n",
       "<style scoped>\n",
       "    .dataframe tbody tr th:only-of-type {\n",
       "        vertical-align: middle;\n",
       "    }\n",
       "\n",
       "    .dataframe tbody tr th {\n",
       "        vertical-align: top;\n",
       "    }\n",
       "\n",
       "    .dataframe thead th {\n",
       "        text-align: right;\n",
       "    }\n",
       "</style>\n",
       "<table border=\"1\" class=\"dataframe\">\n",
       "  <thead>\n",
       "    <tr style=\"text-align: right;\">\n",
       "      <th></th>\n",
       "      <th>year_registration</th>\n",
       "      <th>datasource</th>\n",
       "      <th>gender</th>\n",
       "      <th>age</th>\n",
       "      <th>majority_status</th>\n",
       "      <th>majority_exp</th>\n",
       "      <th>majority_entry</th>\n",
       "      <th>citizenship</th>\n",
       "      <th>means_control</th>\n",
       "      <th>type_exploitation</th>\n",
       "      <th>...</th>\n",
       "      <th>sexual_exp</th>\n",
       "      <th>is_abduction</th>\n",
       "      <th>recruiter_relationship</th>\n",
       "      <th>country_exploitation</th>\n",
       "      <th>sum_mean_control</th>\n",
       "      <th>victim_count</th>\n",
       "      <th>sum_labor_exp</th>\n",
       "      <th>sum_sex_exp</th>\n",
       "      <th>origin_country</th>\n",
       "      <th>full_country_exp</th>\n",
       "    </tr>\n",
       "  </thead>\n",
       "  <tbody>\n",
       "    <tr>\n",
       "      <th>24431</th>\n",
       "      <td>2015.0</td>\n",
       "      <td>Hotline</td>\n",
       "      <td>Female</td>\n",
       "      <td>None</td>\n",
       "      <td>Minor</td>\n",
       "      <td>Minor</td>\n",
       "      <td>None</td>\n",
       "      <td>ZZ</td>\n",
       "      <td>Restricts movement</td>\n",
       "      <td>Forced labour;Sexual exploitation;Combined sex...</td>\n",
       "      <td>...</td>\n",
       "      <td>None</td>\n",
       "      <td>NaN</td>\n",
       "      <td>None</td>\n",
       "      <td>US</td>\n",
       "      <td>1.0</td>\n",
       "      <td>3.0</td>\n",
       "      <td>1.0</td>\n",
       "      <td>0.0</td>\n",
       "      <td>NaN</td>\n",
       "      <td>United States of America (the)</td>\n",
       "    </tr>\n",
       "    <tr>\n",
       "      <th>24432</th>\n",
       "      <td>2015.0</td>\n",
       "      <td>Hotline</td>\n",
       "      <td>Female</td>\n",
       "      <td>None</td>\n",
       "      <td>None</td>\n",
       "      <td>None</td>\n",
       "      <td>None</td>\n",
       "      <td>ZZ</td>\n",
       "      <td>Psychoactive substances</td>\n",
       "      <td>Forced labour;Sexual exploitation;Combined sex...</td>\n",
       "      <td>...</td>\n",
       "      <td>None</td>\n",
       "      <td>NaN</td>\n",
       "      <td>None</td>\n",
       "      <td>US</td>\n",
       "      <td>1.0</td>\n",
       "      <td>3.0</td>\n",
       "      <td>1.0</td>\n",
       "      <td>0.0</td>\n",
       "      <td>NaN</td>\n",
       "      <td>United States of America (the)</td>\n",
       "    </tr>\n",
       "    <tr>\n",
       "      <th>24433</th>\n",
       "      <td>2015.0</td>\n",
       "      <td>Hotline</td>\n",
       "      <td>Female</td>\n",
       "      <td>None</td>\n",
       "      <td>Adult</td>\n",
       "      <td>None</td>\n",
       "      <td>None</td>\n",
       "      <td>ZZ</td>\n",
       "      <td>Not specified</td>\n",
       "      <td>Forced labour;Sexual exploitation;Combined sex...</td>\n",
       "      <td>...</td>\n",
       "      <td>None</td>\n",
       "      <td>NaN</td>\n",
       "      <td>None</td>\n",
       "      <td>US</td>\n",
       "      <td>1.0</td>\n",
       "      <td>3.0</td>\n",
       "      <td>1.0</td>\n",
       "      <td>0.0</td>\n",
       "      <td>NaN</td>\n",
       "      <td>United States of America (the)</td>\n",
       "    </tr>\n",
       "    <tr>\n",
       "      <th>24434</th>\n",
       "      <td>2015.0</td>\n",
       "      <td>Hotline</td>\n",
       "      <td>Female</td>\n",
       "      <td>None</td>\n",
       "      <td>Adult</td>\n",
       "      <td>None</td>\n",
       "      <td>None</td>\n",
       "      <td>ZZ</td>\n",
       "      <td>Restricts movement</td>\n",
       "      <td>Forced labour;Sexual exploitation;Combined sex...</td>\n",
       "      <td>...</td>\n",
       "      <td>None</td>\n",
       "      <td>NaN</td>\n",
       "      <td>None</td>\n",
       "      <td>US</td>\n",
       "      <td>1.0</td>\n",
       "      <td>3.0</td>\n",
       "      <td>1.0</td>\n",
       "      <td>0.0</td>\n",
       "      <td>NaN</td>\n",
       "      <td>United States of America (the)</td>\n",
       "    </tr>\n",
       "    <tr>\n",
       "      <th>24435</th>\n",
       "      <td>2015.0</td>\n",
       "      <td>Hotline</td>\n",
       "      <td>Female</td>\n",
       "      <td>None</td>\n",
       "      <td>Adult</td>\n",
       "      <td>None</td>\n",
       "      <td>None</td>\n",
       "      <td>ZZ</td>\n",
       "      <td>Not specified</td>\n",
       "      <td>Forced labour;Sexual exploitation;Combined sex...</td>\n",
       "      <td>...</td>\n",
       "      <td>None</td>\n",
       "      <td>NaN</td>\n",
       "      <td>None</td>\n",
       "      <td>US</td>\n",
       "      <td>1.0</td>\n",
       "      <td>3.0</td>\n",
       "      <td>1.0</td>\n",
       "      <td>0.0</td>\n",
       "      <td>NaN</td>\n",
       "      <td>United States of America (the)</td>\n",
       "    </tr>\n",
       "    <tr>\n",
       "      <th>...</th>\n",
       "      <td>...</td>\n",
       "      <td>...</td>\n",
       "      <td>...</td>\n",
       "      <td>...</td>\n",
       "      <td>...</td>\n",
       "      <td>...</td>\n",
       "      <td>...</td>\n",
       "      <td>...</td>\n",
       "      <td>...</td>\n",
       "      <td>...</td>\n",
       "      <td>...</td>\n",
       "      <td>...</td>\n",
       "      <td>...</td>\n",
       "      <td>...</td>\n",
       "      <td>...</td>\n",
       "      <td>...</td>\n",
       "      <td>...</td>\n",
       "      <td>...</td>\n",
       "      <td>...</td>\n",
       "      <td>...</td>\n",
       "      <td>...</td>\n",
       "    </tr>\n",
       "    <tr>\n",
       "      <th>54079</th>\n",
       "      <td>2017.0</td>\n",
       "      <td>Hotline</td>\n",
       "      <td>None</td>\n",
       "      <td>None</td>\n",
       "      <td>None</td>\n",
       "      <td>None</td>\n",
       "      <td>None</td>\n",
       "      <td>ZZ</td>\n",
       "      <td>Not specified</td>\n",
       "      <td>Forced labour;Sexual exploitation;Combined sex...</td>\n",
       "      <td>...</td>\n",
       "      <td>None</td>\n",
       "      <td>NaN</td>\n",
       "      <td>None</td>\n",
       "      <td>US</td>\n",
       "      <td>1.0</td>\n",
       "      <td>3.0</td>\n",
       "      <td>1.0</td>\n",
       "      <td>0.0</td>\n",
       "      <td>NaN</td>\n",
       "      <td>United States of America (the)</td>\n",
       "    </tr>\n",
       "    <tr>\n",
       "      <th>54080</th>\n",
       "      <td>2017.0</td>\n",
       "      <td>Hotline</td>\n",
       "      <td>None</td>\n",
       "      <td>None</td>\n",
       "      <td>None</td>\n",
       "      <td>None</td>\n",
       "      <td>None</td>\n",
       "      <td>ZZ</td>\n",
       "      <td>Not specified</td>\n",
       "      <td>Forced labour;Sexual exploitation;Combined sex...</td>\n",
       "      <td>...</td>\n",
       "      <td>None</td>\n",
       "      <td>NaN</td>\n",
       "      <td>None</td>\n",
       "      <td>US</td>\n",
       "      <td>1.0</td>\n",
       "      <td>3.0</td>\n",
       "      <td>1.0</td>\n",
       "      <td>0.0</td>\n",
       "      <td>NaN</td>\n",
       "      <td>United States of America (the)</td>\n",
       "    </tr>\n",
       "    <tr>\n",
       "      <th>54081</th>\n",
       "      <td>2017.0</td>\n",
       "      <td>Hotline</td>\n",
       "      <td>None</td>\n",
       "      <td>None</td>\n",
       "      <td>Adult</td>\n",
       "      <td>None</td>\n",
       "      <td>None</td>\n",
       "      <td>ZZ</td>\n",
       "      <td>Other</td>\n",
       "      <td>Forced labour;Sexual exploitation;Combined sex...</td>\n",
       "      <td>...</td>\n",
       "      <td>None</td>\n",
       "      <td>NaN</td>\n",
       "      <td>None</td>\n",
       "      <td>US</td>\n",
       "      <td>1.0</td>\n",
       "      <td>3.0</td>\n",
       "      <td>1.0</td>\n",
       "      <td>0.0</td>\n",
       "      <td>NaN</td>\n",
       "      <td>United States of America (the)</td>\n",
       "    </tr>\n",
       "    <tr>\n",
       "      <th>54082</th>\n",
       "      <td>2017.0</td>\n",
       "      <td>Hotline</td>\n",
       "      <td>None</td>\n",
       "      <td>None</td>\n",
       "      <td>Minor</td>\n",
       "      <td>Minor</td>\n",
       "      <td>None</td>\n",
       "      <td>ZZ</td>\n",
       "      <td>Other</td>\n",
       "      <td>Forced labour;Sexual exploitation;Combined sex...</td>\n",
       "      <td>...</td>\n",
       "      <td>None</td>\n",
       "      <td>NaN</td>\n",
       "      <td>None</td>\n",
       "      <td>US</td>\n",
       "      <td>1.0</td>\n",
       "      <td>3.0</td>\n",
       "      <td>1.0</td>\n",
       "      <td>0.0</td>\n",
       "      <td>NaN</td>\n",
       "      <td>United States of America (the)</td>\n",
       "    </tr>\n",
       "    <tr>\n",
       "      <th>54083</th>\n",
       "      <td>2017.0</td>\n",
       "      <td>Hotline</td>\n",
       "      <td>None</td>\n",
       "      <td>None</td>\n",
       "      <td>Minor</td>\n",
       "      <td>Minor</td>\n",
       "      <td>None</td>\n",
       "      <td>ZZ</td>\n",
       "      <td>Not specified</td>\n",
       "      <td>Forced labour;Sexual exploitation;Combined sex...</td>\n",
       "      <td>...</td>\n",
       "      <td>None</td>\n",
       "      <td>NaN</td>\n",
       "      <td>None</td>\n",
       "      <td>US</td>\n",
       "      <td>1.0</td>\n",
       "      <td>3.0</td>\n",
       "      <td>1.0</td>\n",
       "      <td>0.0</td>\n",
       "      <td>NaN</td>\n",
       "      <td>United States of America (the)</td>\n",
       "    </tr>\n",
       "  </tbody>\n",
       "</table>\n",
       "<p>152 rows × 21 columns</p>\n",
       "</div>"
      ],
      "text/plain": [
       "       year_registration datasource  gender   age majority_status  \\\n",
       "24431             2015.0    Hotline  Female  None           Minor   \n",
       "24432             2015.0    Hotline  Female  None            None   \n",
       "24433             2015.0    Hotline  Female  None           Adult   \n",
       "24434             2015.0    Hotline  Female  None           Adult   \n",
       "24435             2015.0    Hotline  Female  None           Adult   \n",
       "...                  ...        ...     ...   ...             ...   \n",
       "54079             2017.0    Hotline    None  None            None   \n",
       "54080             2017.0    Hotline    None  None            None   \n",
       "54081             2017.0    Hotline    None  None           Adult   \n",
       "54082             2017.0    Hotline    None  None           Minor   \n",
       "54083             2017.0    Hotline    None  None           Minor   \n",
       "\n",
       "      majority_exp majority_entry citizenship            means_control  \\\n",
       "24431        Minor           None          ZZ       Restricts movement   \n",
       "24432         None           None          ZZ  Psychoactive substances   \n",
       "24433         None           None          ZZ            Not specified   \n",
       "24434         None           None          ZZ       Restricts movement   \n",
       "24435         None           None          ZZ            Not specified   \n",
       "...            ...            ...         ...                      ...   \n",
       "54079         None           None          ZZ            Not specified   \n",
       "54080         None           None          ZZ            Not specified   \n",
       "54081         None           None          ZZ                    Other   \n",
       "54082        Minor           None          ZZ                    Other   \n",
       "54083        Minor           None          ZZ            Not specified   \n",
       "\n",
       "                                       type_exploitation  ... sexual_exp  \\\n",
       "24431  Forced labour;Sexual exploitation;Combined sex...  ...       None   \n",
       "24432  Forced labour;Sexual exploitation;Combined sex...  ...       None   \n",
       "24433  Forced labour;Sexual exploitation;Combined sex...  ...       None   \n",
       "24434  Forced labour;Sexual exploitation;Combined sex...  ...       None   \n",
       "24435  Forced labour;Sexual exploitation;Combined sex...  ...       None   \n",
       "...                                                  ...  ...        ...   \n",
       "54079  Forced labour;Sexual exploitation;Combined sex...  ...       None   \n",
       "54080  Forced labour;Sexual exploitation;Combined sex...  ...       None   \n",
       "54081  Forced labour;Sexual exploitation;Combined sex...  ...       None   \n",
       "54082  Forced labour;Sexual exploitation;Combined sex...  ...       None   \n",
       "54083  Forced labour;Sexual exploitation;Combined sex...  ...       None   \n",
       "\n",
       "      is_abduction  recruiter_relationship country_exploitation  \\\n",
       "24431          NaN                    None                   US   \n",
       "24432          NaN                    None                   US   \n",
       "24433          NaN                    None                   US   \n",
       "24434          NaN                    None                   US   \n",
       "24435          NaN                    None                   US   \n",
       "...            ...                     ...                  ...   \n",
       "54079          NaN                    None                   US   \n",
       "54080          NaN                    None                   US   \n",
       "54081          NaN                    None                   US   \n",
       "54082          NaN                    None                   US   \n",
       "54083          NaN                    None                   US   \n",
       "\n",
       "      sum_mean_control  victim_count  sum_labor_exp  sum_sex_exp  \\\n",
       "24431              1.0           3.0            1.0          0.0   \n",
       "24432              1.0           3.0            1.0          0.0   \n",
       "24433              1.0           3.0            1.0          0.0   \n",
       "24434              1.0           3.0            1.0          0.0   \n",
       "24435              1.0           3.0            1.0          0.0   \n",
       "...                ...           ...            ...          ...   \n",
       "54079              1.0           3.0            1.0          0.0   \n",
       "54080              1.0           3.0            1.0          0.0   \n",
       "54081              1.0           3.0            1.0          0.0   \n",
       "54082              1.0           3.0            1.0          0.0   \n",
       "54083              1.0           3.0            1.0          0.0   \n",
       "\n",
       "       origin_country                full_country_exp  \n",
       "24431             NaN  United States of America (the)  \n",
       "24432             NaN  United States of America (the)  \n",
       "24433             NaN  United States of America (the)  \n",
       "24434             NaN  United States of America (the)  \n",
       "24435             NaN  United States of America (the)  \n",
       "...               ...                             ...  \n",
       "54079             NaN  United States of America (the)  \n",
       "54080             NaN  United States of America (the)  \n",
       "54081             NaN  United States of America (the)  \n",
       "54082             NaN  United States of America (the)  \n",
       "54083             NaN  United States of America (the)  \n",
       "\n",
       "[152 rows x 21 columns]"
      ]
     },
     "execution_count": 1221,
     "metadata": {},
     "output_type": "execute_result"
    }
   ],
   "source": [
    "data.loc[data['type_exploitation'] == 'Forced labour;Sexual exploitation;Combined sexual and labour exploitation']"
   ]
  },
  {
   "cell_type": "code",
   "execution_count": 1222,
   "metadata": {},
   "outputs": [],
   "source": [
    "# since we have two combined features, we'll substitute those:\n",
    "\n",
    "# explore columns and join:\n",
    "x = pd.get_dummies(data['type_exploitation'])\n",
    "data_dummies = data.join(x)\n",
    "\n",
    "# convert binary individual columns 1\n",
    "cols = ['Forced labour',\n",
    "        'Sexual exploitation']\n",
    "data_dummies.loc[data_dummies['Forced labour;Sexual exploitation;Combined sexual and labour exploitation'] >0,\n",
    "                cols] = 1\n",
    "\n",
    "# convert binary individual columns 2\n",
    "cols = ['Forced labour', \n",
    "        'Slavery and similar practices']\n",
    "data_dummies.loc[data_dummies['Forced labour;Slavery and similar practices'] > 0,\n",
    "                cols] = 1\n",
    "\n",
    "data_dummies = (data_dummies\n",
    "               .drop(['Forced labour;Sexual exploitation;Combined sexual and labour exploitation',\n",
    "                     'Forced labour;Slavery and similar practices'], 1))\n",
    "\n",
    "x = pd.get_dummies(data['origin_country'])\n",
    "data_dummies = data_dummies.join(x.loc[:,x.columns[1:]])\n"
   ]
  },
  {
   "cell_type": "code",
   "execution_count": 1223,
   "metadata": {},
   "outputs": [
    {
     "data": {
      "text/plain": [
       "58"
      ]
     },
     "execution_count": 1223,
     "metadata": {},
     "output_type": "execute_result"
    }
   ],
   "source": [
    "len(data['country_exploitation'].unique())\n",
    "# there are 58 different possible countries of exploitation,\n",
    "# we'll go with the top 2 and 'other'"
   ]
  },
  {
   "cell_type": "code",
   "execution_count": 1224,
   "metadata": {
    "scrolled": true
   },
   "outputs": [
    {
     "data": {
      "text/plain": [
       "US    16956\n",
       "MD     5698\n",
       "UA     5308\n",
       "RU     2787\n",
       "PH     1988\n",
       "ID     1776\n",
       "KH      983\n",
       "MY      907\n",
       "GH      545\n",
       "AE      515\n",
       "TH      453\n",
       "BY      381\n",
       "SN      370\n",
       "BG      356\n",
       "PL      352\n",
       "HT      339\n",
       "RO      273\n",
       "TR      262\n",
       "SA      257\n",
       "QA      239\n",
       "KZ      222\n",
       "Y1      211\n",
       "KW      210\n",
       "MK      194\n",
       "UZ      193\n",
       "ZZ      188\n",
       "BA      127\n",
       "JP      123\n",
       "UG      123\n",
       "JO      108\n",
       "TT       96\n",
       "MG       94\n",
       "OM       94\n",
       "TJ       88\n",
       "AF       84\n",
       "SL       81\n",
       "CN       79\n",
       "LB       78\n",
       "EC       54\n",
       "CZ       54\n",
       "AL       45\n",
       "SY       41\n",
       "SG       37\n",
       "ZA       36\n",
       "AR       36\n",
       "TW       33\n",
       "HK       31\n",
       "IT       28\n",
       "TM       26\n",
       "AT       24\n",
       "BH       22\n",
       "MU       20\n",
       "DK       17\n",
       "VN       16\n",
       "EG       13\n",
       "MX       13\n",
       "CY       12\n",
       "Name: country_exploitation, dtype: int64"
      ]
     },
     "execution_count": 1224,
     "metadata": {},
     "output_type": "execute_result"
    }
   ],
   "source": [
    "data['country_exploitation'].value_counts()\n",
    "# top 2 are US and MD"
   ]
  },
  {
   "cell_type": "code",
   "execution_count": 1225,
   "metadata": {},
   "outputs": [
    {
     "data": {
      "text/plain": [
       "Index(['year_registration', 'datasource', 'gender', 'age', 'majority_status',\n",
       "       'majority_exp', 'majority_entry', 'citizenship', 'means_control',\n",
       "       'type_exploitation', 'labor_exp', 'sexual_exp', 'is_abduction',\n",
       "       'recruiter_relationship', 'country_exploitation', 'sum_mean_control',\n",
       "       'victim_count', 'sum_labor_exp', 'sum_sex_exp', 'origin_country',\n",
       "       'full_country_exp', 'Forced labour', 'Forced marriage', 'Other',\n",
       "       'Sexual exploitation', 'Slavery and similar practices', 'Albania',\n",
       "       'Bangladesh', 'Belarus', 'Bolivia (Plurinational State of)', 'Bulgaria',\n",
       "       'Burkina Faso', 'Cambodia', 'China', 'Colombia',\n",
       "       'Congo (the Democratic Republic of the)', 'Côte d'Ivoire',\n",
       "       'El Salvador', 'Eritrea', 'Ghana', 'Guinea', 'Guinea-Bissau', 'Haiti',\n",
       "       'India', 'Indonesia', 'Kazakhstan', 'Korea (the Republic of)',\n",
       "       'Kyrgyzstan', 'Lao People's Democratic Republic (the)', 'Madagascar',\n",
       "       'Mali', 'Mexico', 'Moldova (the Republic of)', 'Myanmar', 'Nepal',\n",
       "       'Niger (the)', 'Nigeria', 'Philippines (the)', 'Romania', 'Senegal',\n",
       "       'Sierra Leone', 'Sri Lanka', 'Tajikistan', 'Thailand', 'Turkmenistan',\n",
       "       'Uganda', 'Ukraine', 'United States of America (the)', 'Uzbekistan',\n",
       "       'Viet Nam'],\n",
       "      dtype='object')"
      ]
     },
     "execution_count": 1225,
     "metadata": {},
     "output_type": "execute_result"
    }
   ],
   "source": [
    "data_dummies.columns"
   ]
  },
  {
   "cell_type": "code",
   "execution_count": 1226,
   "metadata": {},
   "outputs": [],
   "source": [
    "# we need to narrow down our response variable to three classes:\n",
    "data_dummies['response'] = data_dummies['country_exploitation']\n",
    "data_dummies.loc[~data_dummies['response'].isin([ 'US', 'MD']), 'response'] = 'other'\n",
    "# we are saying to do the reverse '~' of isin, so if the response is not in \n",
    "# US or MD, it will be labeled 'other'"
   ]
  },
  {
   "cell_type": "code",
   "execution_count": 1227,
   "metadata": {},
   "outputs": [],
   "source": [
    "# To do hypothesis testing, you need to know three thing:\n",
    "# 1. Number of classes: 3 (US, MD and other)\n",
    "# 2. Are variables independent or dependent? Independent\n",
    "# 3. Does it have a parametric or non parametric distribution? TBD\n",
    "## If parametric, we'll use the ANOVA test\n",
    "## If non-parametric, we'll use the Kruskal-Wallis Test"
   ]
  },
  {
   "cell_type": "code",
   "execution_count": 1228,
   "metadata": {},
   "outputs": [],
   "source": [
    "# Statistical significance is the likelihood that a result or relationship \n",
    "# is caused by something other than mere random chance. \n",
    "# Statistical hypothesis testing is traditionally employed to determine \n",
    "# whether or not a result is statistically significant.\n",
    "# The probability of our observations occurring by chance, \n",
    "# given the null hypothesis, is the pvalue.\n"
   ]
  },
  {
   "cell_type": "code",
   "execution_count": 1229,
   "metadata": {},
   "outputs": [
    {
     "name": "stdout",
     "output_type": "stream",
     "text": [
      "55434\n"
     ]
    },
    {
     "data": {
      "text/plain": [
       "55435.28378497673"
      ]
     },
     "execution_count": 1229,
     "metadata": {},
     "output_type": "execute_result"
    }
   ],
   "source": [
    "print(len(data_dummies))\n",
    "np.random.normal(len(data_dummies))"
   ]
  },
  {
   "cell_type": "code",
   "execution_count": 1230,
   "metadata": {},
   "outputs": [],
   "source": [
    "from scipy import stats"
   ]
  },
  {
   "cell_type": "code",
   "execution_count": 1231,
   "metadata": {},
   "outputs": [
    {
     "data": {
      "text/plain": [
       "0.0"
      ]
     },
     "execution_count": 1231,
     "metadata": {},
     "output_type": "execute_result"
    }
   ],
   "source": [
    "# stats.normaltest(): Test whether a sample differs from a normal distribution.\n",
    "# let's test US p value\n",
    "p_value = stats.normaltest(data_dummies['United States of America (the)']).pvalue\n",
    "p_value\n",
    "# a p value of 0 means it's not parametric"
   ]
  },
  {
   "cell_type": "code",
   "execution_count": 1232,
   "metadata": {},
   "outputs": [
    {
     "data": {
      "text/plain": [
       "Index(['year_registration', 'datasource', 'gender', 'age', 'majority_status',\n",
       "       'majority_exp', 'majority_entry', 'citizenship', 'means_control',\n",
       "       'type_exploitation', 'labor_exp', 'sexual_exp', 'is_abduction',\n",
       "       'recruiter_relationship', 'country_exploitation', 'sum_mean_control',\n",
       "       'victim_count', 'sum_labor_exp', 'sum_sex_exp', 'origin_country',\n",
       "       'full_country_exp', 'Forced labour', 'Forced marriage', 'Other',\n",
       "       'Sexual exploitation', 'Slavery and similar practices', 'Albania',\n",
       "       'Bangladesh', 'Belarus', 'Bolivia (Plurinational State of)', 'Bulgaria',\n",
       "       'Burkina Faso', 'Cambodia', 'China', 'Colombia',\n",
       "       'Congo (the Democratic Republic of the)', 'Côte d'Ivoire',\n",
       "       'El Salvador', 'Eritrea', 'Ghana', 'Guinea', 'Guinea-Bissau', 'Haiti',\n",
       "       'India', 'Indonesia', 'Kazakhstan', 'Korea (the Republic of)',\n",
       "       'Kyrgyzstan', 'Lao People's Democratic Republic (the)', 'Madagascar',\n",
       "       'Mali', 'Mexico', 'Moldova (the Republic of)', 'Myanmar', 'Nepal',\n",
       "       'Niger (the)', 'Nigeria', 'Philippines (the)', 'Romania', 'Senegal',\n",
       "       'Sierra Leone', 'Sri Lanka', 'Tajikistan', 'Thailand', 'Turkmenistan',\n",
       "       'Uganda', 'Ukraine', 'United States of America (the)', 'Uzbekistan',\n",
       "       'Viet Nam', 'response'],\n",
       "      dtype='object')"
      ]
     },
     "execution_count": 1232,
     "metadata": {},
     "output_type": "execute_result"
    }
   ],
   "source": [
    "data_dummies.columns"
   ]
  },
  {
   "cell_type": "code",
   "execution_count": 1233,
   "metadata": {
    "scrolled": true
   },
   "outputs": [
    {
     "name": "stdout",
     "output_type": "stream",
     "text": [
      "{'Forced labour': 'Kruskal-Wallis', 'Forced marriage': 'Kruskal-Wallis', 'Other': 'Kruskal-Wallis', 'Sexual exploitation': 'Kruskal-Wallis', 'Slavery and similar practices': 'Kruskal-Wallis', 'Albania': 'Kruskal-Wallis', 'Bangladesh': 'Kruskal-Wallis', 'Belarus': 'Kruskal-Wallis', 'Bolivia (Plurinational State of)': 'Kruskal-Wallis', 'Bulgaria': 'Kruskal-Wallis', 'Burkina Faso': 'Kruskal-Wallis', 'Cambodia': 'Kruskal-Wallis', 'China': 'Kruskal-Wallis', 'Colombia': 'Kruskal-Wallis', 'Congo (the Democratic Republic of the)': 'Kruskal-Wallis', \"Côte d'Ivoire\": 'Kruskal-Wallis', 'El Salvador': 'Kruskal-Wallis', 'Eritrea': 'Kruskal-Wallis', 'Ghana': 'Kruskal-Wallis', 'Guinea': 'Kruskal-Wallis', 'Guinea-Bissau': 'Kruskal-Wallis', 'Haiti': 'Kruskal-Wallis', 'India': 'Kruskal-Wallis', 'Indonesia': 'Kruskal-Wallis', 'Kazakhstan': 'Kruskal-Wallis', 'Korea (the Republic of)': 'Kruskal-Wallis', 'Kyrgyzstan': 'Kruskal-Wallis', \"Lao People's Democratic Republic (the)\": 'Kruskal-Wallis', 'Madagascar': 'Kruskal-Wallis', 'Mali': 'Kruskal-Wallis', 'Mexico': 'Kruskal-Wallis', 'Moldova (the Republic of)': 'Kruskal-Wallis', 'Myanmar': 'Kruskal-Wallis', 'Nepal': 'Kruskal-Wallis', 'Niger (the)': 'Kruskal-Wallis', 'Nigeria': 'Kruskal-Wallis', 'Philippines (the)': 'Kruskal-Wallis', 'Romania': 'Kruskal-Wallis', 'Senegal': 'Kruskal-Wallis', 'Sierra Leone': 'Kruskal-Wallis', 'Sri Lanka': 'Kruskal-Wallis', 'Tajikistan': 'Kruskal-Wallis', 'Thailand': 'Kruskal-Wallis', 'Turkmenistan': 'Kruskal-Wallis', 'Uganda': 'Kruskal-Wallis', 'Ukraine': 'Kruskal-Wallis', 'United States of America (the)': 'Kruskal-Wallis', 'Uzbekistan': 'Kruskal-Wallis', 'Viet Nam': 'Kruskal-Wallis'}\n"
     ]
    }
   ],
   "source": [
    "# determining the feature columns:\n",
    "features = ['Forced labour', 'Forced marriage', 'Other',\n",
    "       'Sexual exploitation', 'Slavery and similar practices', 'Albania',\n",
    "       'Bangladesh', 'Belarus', 'Bolivia (Plurinational State of)', 'Bulgaria',\n",
    "       'Burkina Faso', 'Cambodia', 'China', 'Colombia',\n",
    "       'Congo (the Democratic Republic of the)', \"Côte d'Ivoire\",\n",
    "       'El Salvador', 'Eritrea', 'Ghana', 'Guinea', 'Guinea-Bissau', 'Haiti',\n",
    "       'India', 'Indonesia', 'Kazakhstan', 'Korea (the Republic of)',\n",
    "       'Kyrgyzstan', \"Lao People's Democratic Republic (the)\", 'Madagascar',\n",
    "       'Mali', 'Mexico', 'Moldova (the Republic of)', 'Myanmar', 'Nepal',\n",
    "       'Niger (the)', 'Nigeria', 'Philippines (the)', 'Romania', 'Senegal',\n",
    "       'Sierra Leone', 'Sri Lanka', 'Tajikistan', 'Thailand', 'Turkmenistan',\n",
    "       'Uganda', 'Ukraine', 'United States of America (the)', 'Uzbekistan',\n",
    "       'Viet Nam'] \n",
    "\n",
    "# creating an empty dictionary:\n",
    "test_type = {}\n",
    "\n",
    "# looping through every feature's p_value, to asses wether is parametric\n",
    "# or not\n",
    "for feature in features:\n",
    "    p_value = stats.normaltest(data_dummies[feature]).pvalue\n",
    "# if the p val is higher than .05, it's parametric and will go under ANOVA\n",
    "    if p_value < .05:\n",
    "        test_type.update({feature: 'Kruskal-Wallis'})\n",
    "    else:\n",
    "        test_type.update({feature: 'ANOVA'})\n",
    "        \n",
    "print(test_type)\n",
    "\n",
    "# all of them are non-parametric, so we'll use Kruskal Wallis"
   ]
  },
  {
   "cell_type": "code",
   "execution_count": 1234,
   "metadata": {},
   "outputs": [
    {
     "data": {
      "text/html": [
       "<div>\n",
       "<style scoped>\n",
       "    .dataframe tbody tr th:only-of-type {\n",
       "        vertical-align: middle;\n",
       "    }\n",
       "\n",
       "    .dataframe tbody tr th {\n",
       "        vertical-align: top;\n",
       "    }\n",
       "\n",
       "    .dataframe thead th {\n",
       "        text-align: right;\n",
       "    }\n",
       "</style>\n",
       "<table border=\"1\" class=\"dataframe\">\n",
       "  <thead>\n",
       "    <tr style=\"text-align: right;\">\n",
       "      <th></th>\n",
       "      <th>year_registration</th>\n",
       "      <th>datasource</th>\n",
       "      <th>gender</th>\n",
       "      <th>age</th>\n",
       "      <th>majority_status</th>\n",
       "      <th>majority_exp</th>\n",
       "      <th>majority_entry</th>\n",
       "      <th>citizenship</th>\n",
       "      <th>means_control</th>\n",
       "      <th>type_exploitation</th>\n",
       "      <th>...</th>\n",
       "      <th>Sri Lanka</th>\n",
       "      <th>Tajikistan</th>\n",
       "      <th>Thailand</th>\n",
       "      <th>Turkmenistan</th>\n",
       "      <th>Uganda</th>\n",
       "      <th>Ukraine</th>\n",
       "      <th>United States of America (the)</th>\n",
       "      <th>Uzbekistan</th>\n",
       "      <th>Viet Nam</th>\n",
       "      <th>response</th>\n",
       "    </tr>\n",
       "  </thead>\n",
       "  <tbody>\n",
       "    <tr>\n",
       "      <th>0</th>\n",
       "      <td>2002.0</td>\n",
       "      <td>Case Management</td>\n",
       "      <td>None</td>\n",
       "      <td>None</td>\n",
       "      <td>None</td>\n",
       "      <td>None</td>\n",
       "      <td>None</td>\n",
       "      <td>None</td>\n",
       "      <td>None</td>\n",
       "      <td>None</td>\n",
       "      <td>...</td>\n",
       "      <td>0</td>\n",
       "      <td>0</td>\n",
       "      <td>0</td>\n",
       "      <td>0</td>\n",
       "      <td>0</td>\n",
       "      <td>0</td>\n",
       "      <td>0</td>\n",
       "      <td>0</td>\n",
       "      <td>0</td>\n",
       "      <td>other</td>\n",
       "    </tr>\n",
       "    <tr>\n",
       "      <th>1529</th>\n",
       "      <td>2004.0</td>\n",
       "      <td>Case Management</td>\n",
       "      <td>Female</td>\n",
       "      <td>18--20</td>\n",
       "      <td>Adult</td>\n",
       "      <td>None</td>\n",
       "      <td>None</td>\n",
       "      <td>MD</td>\n",
       "      <td>None</td>\n",
       "      <td>None</td>\n",
       "      <td>...</td>\n",
       "      <td>0</td>\n",
       "      <td>0</td>\n",
       "      <td>0</td>\n",
       "      <td>0</td>\n",
       "      <td>0</td>\n",
       "      <td>0</td>\n",
       "      <td>0</td>\n",
       "      <td>0</td>\n",
       "      <td>0</td>\n",
       "      <td>MD</td>\n",
       "    </tr>\n",
       "    <tr>\n",
       "      <th>20889</th>\n",
       "      <td>2015.0</td>\n",
       "      <td>Hotline</td>\n",
       "      <td>Female</td>\n",
       "      <td>18--20</td>\n",
       "      <td>Adult</td>\n",
       "      <td>Adult</td>\n",
       "      <td>None</td>\n",
       "      <td>US</td>\n",
       "      <td>Psychological abuse;Sexual abuse;Psychoactive ...</td>\n",
       "      <td>Sexual exploitation</td>\n",
       "      <td>...</td>\n",
       "      <td>0</td>\n",
       "      <td>0</td>\n",
       "      <td>0</td>\n",
       "      <td>0</td>\n",
       "      <td>0</td>\n",
       "      <td>0</td>\n",
       "      <td>1</td>\n",
       "      <td>0</td>\n",
       "      <td>0</td>\n",
       "      <td>US</td>\n",
       "    </tr>\n",
       "  </tbody>\n",
       "</table>\n",
       "<p>3 rows × 71 columns</p>\n",
       "</div>"
      ],
      "text/plain": [
       "       year_registration       datasource  gender     age majority_status  \\\n",
       "0                 2002.0  Case Management    None    None            None   \n",
       "1529              2004.0  Case Management  Female  18--20           Adult   \n",
       "20889             2015.0          Hotline  Female  18--20           Adult   \n",
       "\n",
       "      majority_exp majority_entry citizenship  \\\n",
       "0             None           None        None   \n",
       "1529          None           None          MD   \n",
       "20889        Adult           None          US   \n",
       "\n",
       "                                           means_control    type_exploitation  \\\n",
       "0                                                   None                 None   \n",
       "1529                                                None                 None   \n",
       "20889  Psychological abuse;Sexual abuse;Psychoactive ...  Sexual exploitation   \n",
       "\n",
       "       ... Sri Lanka Tajikistan  Thailand Turkmenistan Uganda  Ukraine  \\\n",
       "0      ...         0          0         0            0      0        0   \n",
       "1529   ...         0          0         0            0      0        0   \n",
       "20889  ...         0          0         0            0      0        0   \n",
       "\n",
       "       United States of America (the)  Uzbekistan  Viet Nam response  \n",
       "0                                   0           0         0    other  \n",
       "1529                                0           0         0       MD  \n",
       "20889                               1           0         0       US  \n",
       "\n",
       "[3 rows x 71 columns]"
      ]
     },
     "execution_count": 1234,
     "metadata": {},
     "output_type": "execute_result"
    }
   ],
   "source": [
    "data_dummies.drop_duplicates('response')"
   ]
  },
  {
   "cell_type": "code",
   "execution_count": 1235,
   "metadata": {},
   "outputs": [
    {
     "name": "stderr",
     "output_type": "stream",
     "text": [
      "C:\\Users\\algc_\\Anaconda3\\lib\\site-packages\\scipy\\stats\\stats.py:5879: RuntimeWarning: overflow encountered in long_scalars\n",
      "  h = 12.0 / (totaln * (totaln + 1)) * ssbn - 3 * (totaln + 1)\n"
     ]
    },
    {
     "data": {
      "text/plain": [
       "1.0"
      ]
     },
     "execution_count": 1235,
     "metadata": {},
     "output_type": "execute_result"
    }
   ],
   "source": [
    "# we'll create three variables for each response class, and measure their\n",
    "# p value\n",
    "\n",
    "us = data_dummies.loc[data_dummies['response'] == 'US', feature].to_list()\n",
    "md = data_dummies.loc[data_dummies['response'] == 'MD', feature].to_list()\n",
    "other = data_dummies.loc[data_dummies['response'] == 'other', feature].to_list()\n",
    "p_value = stats.kruskal(us, md, other).pvalue\n",
    "\n",
    "p_value"
   ]
  },
  {
   "cell_type": "code",
   "execution_count": 1236,
   "metadata": {
    "scrolled": true
   },
   "outputs": [
    {
     "name": "stdout",
     "output_type": "stream",
     "text": [
      "                                   feature  p_value  significant\n",
      "0                            Forced labour      1.0        False\n",
      "1                          Forced marriage      1.0        False\n",
      "2                                    Other      1.0        False\n",
      "3                      Sexual exploitation      1.0        False\n",
      "4            Slavery and similar practices      1.0        False\n",
      "5                                  Albania      1.0        False\n",
      "6                               Bangladesh      1.0        False\n",
      "7                                  Belarus      1.0        False\n",
      "8         Bolivia (Plurinational State of)      1.0        False\n",
      "9                                 Bulgaria      1.0        False\n",
      "10                            Burkina Faso      1.0        False\n",
      "11                                Cambodia      1.0        False\n",
      "12                                   China      1.0        False\n",
      "13                                Colombia      1.0        False\n",
      "14  Congo (the Democratic Republic of the)      1.0        False\n",
      "15                           Côte d'Ivoire      1.0        False\n",
      "16                             El Salvador      1.0        False\n",
      "17                                 Eritrea      1.0        False\n",
      "18                                   Ghana      1.0        False\n",
      "19                                  Guinea      1.0        False\n",
      "20                           Guinea-Bissau      1.0        False\n",
      "21                                   Haiti      1.0        False\n",
      "22                                   India      1.0        False\n",
      "23                               Indonesia      1.0        False\n",
      "24                              Kazakhstan      1.0        False\n",
      "25                 Korea (the Republic of)      1.0        False\n",
      "26                              Kyrgyzstan      1.0        False\n",
      "27  Lao People's Democratic Republic (the)      1.0        False\n",
      "28                              Madagascar      1.0        False\n",
      "29                                    Mali      1.0        False\n",
      "30                                  Mexico      1.0        False\n",
      "31               Moldova (the Republic of)      1.0        False\n",
      "32                                 Myanmar      1.0        False\n",
      "33                                   Nepal      1.0        False\n",
      "34                             Niger (the)      1.0        False\n",
      "35                                 Nigeria      1.0        False\n",
      "36                       Philippines (the)      1.0        False\n",
      "37                                 Romania      1.0        False\n",
      "38                                 Senegal      1.0        False\n",
      "39                            Sierra Leone      1.0        False\n",
      "40                               Sri Lanka      1.0        False\n",
      "41                              Tajikistan      1.0        False\n",
      "42                                Thailand      1.0        False\n",
      "43                            Turkmenistan      1.0        False\n",
      "44                                  Uganda      1.0        False\n",
      "45                                 Ukraine      1.0        False\n",
      "46          United States of America (the)      1.0        False\n",
      "47                              Uzbekistan      1.0        False\n",
      "48                                Viet Nam      1.0        False\n"
     ]
    }
   ],
   "source": [
    "# test if the null hypothesis, we'll see how significant the p vals are\n",
    "h0_test = pd.DataFrame()\n",
    "\n",
    "for feature in features:\n",
    "    us = data_dummies.loc[data_dummies['response'] == 'US', feature].to_list()\n",
    "    md = data_dummies.loc[data_dummies['response'] == 'MD', feature].to_list()\n",
    "    other = data_dummies.loc[data_dummies['response'] == 'other', feature].to_list()\n",
    "    p_value = stats.kruskal(us, md, other).pvalue\n",
    "    \n",
    "    index_ = len(h0_test)\n",
    "    h0_test.loc[index_, 'feature'] = feature\n",
    "    h0_test.loc[index_, 'p_value'] = p_value\n",
    "    \n",
    "    if p_value < .05:\n",
    "        h0_test.loc[index_, 'significant'] = True\n",
    "    else:\n",
    "        h0_test.loc[index_, 'significant'] = False\n",
    "        \n",
    "print(h0_test)\n",
    "    \n",
    "# there seems to be something weird going on, as they all have the same pval"
   ]
  },
  {
   "cell_type": "code",
   "execution_count": 1237,
   "metadata": {
    "scrolled": true
   },
   "outputs": [
    {
     "name": "stdout",
     "output_type": "stream",
     "text": [
      "5.602021804991934e-23\n",
      "                                   feature        p_value  significant\n",
      "0                            Forced labour   0.000000e+00         True\n",
      "1                          Forced marriage   1.964444e-19         True\n",
      "2                                    Other   0.000000e+00         True\n",
      "3                      Sexual exploitation   0.000000e+00         True\n",
      "4            Slavery and similar practices   1.030243e-44         True\n",
      "5                                  Albania   6.938840e-07         True\n",
      "6                               Bangladesh   8.525989e-03         True\n",
      "7                                  Belarus  2.483850e-178         True\n",
      "8         Bolivia (Plurinational State of)   1.137096e-03         True\n",
      "9                                 Bulgaria   6.215562e-41         True\n",
      "10                            Burkina Faso   1.791200e-05         True\n",
      "11                                Cambodia  1.772146e-230         True\n",
      "12                                   China   1.089916e-50         True\n",
      "13                                Colombia   5.342229e-16         True\n",
      "14  Congo (the Democratic Republic of the)   8.086478e-08         True\n",
      "15                           Côte d'Ivoire   3.092929e-05         True\n",
      "16                             El Salvador   1.994852e-06         True\n",
      "17                                 Eritrea   4.750798e-03         True\n",
      "18                                   Ghana   3.012581e-64         True\n",
      "19                                  Guinea   2.669138e-03         True\n",
      "20                           Guinea-Bissau   2.103917e-18         True\n",
      "21                                   Haiti   7.198248e-34         True\n",
      "22                                   India   3.606547e-08         True\n",
      "23                               Indonesia  3.104989e-230         True\n",
      "24                              Kazakhstan   6.185636e-08         True\n",
      "25                 Korea (the Republic of)   7.285146e-07         True\n",
      "26                              Kyrgyzstan   3.331894e-53         True\n",
      "27  Lao People's Democratic Republic (the)   1.097355e-16         True\n",
      "28                              Madagascar   1.480654e-12         True\n",
      "29                                    Mali   6.938840e-07         True\n",
      "30                                  Mexico  1.165276e-190         True\n",
      "31               Moldova (the Republic of)  1.651178e-212         True\n",
      "32                                 Myanmar  3.142532e-150         True\n",
      "33                                   Nepal   9.270558e-05         True\n",
      "34                             Niger (the)   3.092929e-05         True\n",
      "35                                 Nigeria   1.998827e-15         True\n",
      "36                       Philippines (the)   0.000000e+00         True\n",
      "37                                 Romania   2.031532e-80         True\n",
      "38                                 Senegal   8.638431e-10         True\n",
      "39                            Sierra Leone   4.643623e-11         True\n",
      "40                               Sri Lanka   1.607035e-11         True\n",
      "41                              Tajikistan   1.343083e-10         True\n",
      "42                                Thailand   2.738257e-18         True\n",
      "43                            Turkmenistan   1.221357e-04         True\n",
      "44                                  Uganda   8.638431e-10         True\n",
      "45                                 Ukraine   0.000000e+00         True\n",
      "46          United States of America (the)   0.000000e+00         True\n",
      "47                              Uzbekistan   1.151049e-31         True\n",
      "48                                Viet Nam   5.602022e-23         True\n"
     ]
    }
   ],
   "source": [
    "# let's test it out with 2 values, we use Mann Whitney U\n",
    "\n",
    "h0_test = pd.DataFrame()\n",
    "country_code = 'US'\n",
    "\n",
    "for feature in features:\n",
    "    country = data_dummies.loc[data_dummies['response'] == country_code, feature].to_list()\n",
    "    other = data_dummies.loc[data_dummies['response'] == 'other', feature].to_list()\n",
    "    p_value = stats.mannwhitneyu(country, other).pvalue\n",
    "    \n",
    "    index_ = len(h0_test)\n",
    "    h0_test.loc[index_, 'feature'] = feature\n",
    "    h0_test.loc[index_, 'p_value'] = p_value\n",
    "    \n",
    "    if p_value < .05:\n",
    "        h0_test.loc[index_, 'significant'] = True\n",
    "    else:\n",
    "        h0_test.loc[index_, 'significant'] = False\n",
    "        \n",
    "print(p_value)\n",
    "print(h0_test)\n",
    "\n",
    "# the p vals are no longer the exact same, but they are all significant. \n",
    "# this indicates there might be something weird going on"
   ]
  },
  {
   "cell_type": "markdown",
   "metadata": {},
   "source": [
    "# Creating the Model"
   ]
  },
  {
   "cell_type": "markdown",
   "metadata": {},
   "source": [
    "## Random Forest"
   ]
  },
  {
   "cell_type": "code",
   "execution_count": 1238,
   "metadata": {},
   "outputs": [],
   "source": [
    "data_dummies['response'] = data_dummies['country_exploitation']\n",
    "data_dummies.loc[~data_dummies['response'].isin(['PH']), 'response'] = 'other'\n",
    "data_dummies['response_num'] = pd.factorize(data_dummies['response'])[0]"
   ]
  },
  {
   "cell_type": "code",
   "execution_count": 1239,
   "metadata": {},
   "outputs": [],
   "source": [
    "X = data_dummies[features]\n",
    "y = data_dummies['response_num']"
   ]
  },
  {
   "cell_type": "code",
   "execution_count": 1240,
   "metadata": {},
   "outputs": [],
   "source": [
    "# instantiate\n",
    "rf_clf = RandomForestClassifier()"
   ]
  },
  {
   "cell_type": "code",
   "execution_count": 1241,
   "metadata": {},
   "outputs": [
    {
     "name": "stderr",
     "output_type": "stream",
     "text": [
      "C:\\Users\\algc_\\Anaconda3\\lib\\site-packages\\sklearn\\ensemble\\forest.py:245: FutureWarning: The default value of n_estimators will change from 10 in version 0.20 to 100 in 0.22.\n",
      "  \"10 in version 0.20 to 100 in 0.22.\", FutureWarning)\n"
     ]
    },
    {
     "data": {
      "text/plain": [
       "RandomForestClassifier(bootstrap=True, class_weight=None, criterion='gini',\n",
       "                       max_depth=None, max_features='auto', max_leaf_nodes=None,\n",
       "                       min_impurity_decrease=0.0, min_impurity_split=None,\n",
       "                       min_samples_leaf=1, min_samples_split=2,\n",
       "                       min_weight_fraction_leaf=0.0, n_estimators=10,\n",
       "                       n_jobs=None, oob_score=False, random_state=None,\n",
       "                       verbose=0, warm_start=False)"
      ]
     },
     "execution_count": 1241,
     "metadata": {},
     "output_type": "execute_result"
    }
   ],
   "source": [
    "# fit\n",
    "rf_clf.fit(X_train, y_train)"
   ]
  },
  {
   "cell_type": "code",
   "execution_count": 1242,
   "metadata": {},
   "outputs": [],
   "source": [
    "# predict\n",
    "probs = rf_clf.predict_proba(X_test)"
   ]
  },
  {
   "cell_type": "code",
   "execution_count": 1243,
   "metadata": {},
   "outputs": [
    {
     "data": {
      "text/html": [
       "<div>\n",
       "<style scoped>\n",
       "    .dataframe tbody tr th:only-of-type {\n",
       "        vertical-align: middle;\n",
       "    }\n",
       "\n",
       "    .dataframe tbody tr th {\n",
       "        vertical-align: top;\n",
       "    }\n",
       "\n",
       "    .dataframe thead th {\n",
       "        text-align: right;\n",
       "    }\n",
       "</style>\n",
       "<table border=\"1\" class=\"dataframe\">\n",
       "  <thead>\n",
       "    <tr style=\"text-align: right;\">\n",
       "      <th></th>\n",
       "      <th>predict</th>\n",
       "      <th>true</th>\n",
       "    </tr>\n",
       "  </thead>\n",
       "  <tbody>\n",
       "    <tr>\n",
       "      <th>0</th>\n",
       "      <td>0.140444</td>\n",
       "      <td>0.0</td>\n",
       "    </tr>\n",
       "    <tr>\n",
       "      <th>1</th>\n",
       "      <td>0.122870</td>\n",
       "      <td>0.0</td>\n",
       "    </tr>\n",
       "    <tr>\n",
       "      <th>2</th>\n",
       "      <td>0.000000</td>\n",
       "      <td>0.0</td>\n",
       "    </tr>\n",
       "    <tr>\n",
       "      <th>3</th>\n",
       "      <td>0.140444</td>\n",
       "      <td>0.0</td>\n",
       "    </tr>\n",
       "    <tr>\n",
       "      <th>4</th>\n",
       "      <td>0.000000</td>\n",
       "      <td>0.0</td>\n",
       "    </tr>\n",
       "    <tr>\n",
       "      <th>...</th>\n",
       "      <td>...</td>\n",
       "      <td>...</td>\n",
       "    </tr>\n",
       "    <tr>\n",
       "      <th>13854</th>\n",
       "      <td>0.000000</td>\n",
       "      <td>0.0</td>\n",
       "    </tr>\n",
       "    <tr>\n",
       "      <th>13855</th>\n",
       "      <td>0.000000</td>\n",
       "      <td>0.0</td>\n",
       "    </tr>\n",
       "    <tr>\n",
       "      <th>13856</th>\n",
       "      <td>0.140444</td>\n",
       "      <td>1.0</td>\n",
       "    </tr>\n",
       "    <tr>\n",
       "      <th>13857</th>\n",
       "      <td>0.314038</td>\n",
       "      <td>1.0</td>\n",
       "    </tr>\n",
       "    <tr>\n",
       "      <th>13858</th>\n",
       "      <td>0.000000</td>\n",
       "      <td>0.0</td>\n",
       "    </tr>\n",
       "  </tbody>\n",
       "</table>\n",
       "<p>13859 rows × 2 columns</p>\n",
       "</div>"
      ],
      "text/plain": [
       "        predict  true\n",
       "0      0.140444   0.0\n",
       "1      0.122870   0.0\n",
       "2      0.000000   0.0\n",
       "3      0.140444   0.0\n",
       "4      0.000000   0.0\n",
       "...         ...   ...\n",
       "13854  0.000000   0.0\n",
       "13855  0.000000   0.0\n",
       "13856  0.140444   1.0\n",
       "13857  0.314038   1.0\n",
       "13858  0.000000   0.0\n",
       "\n",
       "[13859 rows x 2 columns]"
      ]
     },
     "execution_count": 1243,
     "metadata": {},
     "output_type": "execute_result"
    }
   ],
   "source": [
    "predict_df = pd.DataFrame([probs[:, 1], y_test]).transpose().rename(columns={0:'predict', 1:'true'})\n",
    "predict_df\n",
    "# 0 = other, 1 = PH"
   ]
  },
  {
   "cell_type": "code",
   "execution_count": null,
   "metadata": {},
   "outputs": [],
   "source": []
  },
  {
   "cell_type": "code",
   "execution_count": 1244,
   "metadata": {},
   "outputs": [
    {
     "name": "stderr",
     "output_type": "stream",
     "text": [
      "C:\\Users\\algc_\\Anaconda3\\lib\\site-packages\\sklearn\\ensemble\\forest.py:245: FutureWarning: The default value of n_estimators will change from 10 in version 0.20 to 100 in 0.22.\n",
      "  \"10 in version 0.20 to 100 in 0.22.\", FutureWarning)\n"
     ]
    }
   ],
   "source": [
    "# Testing it out with Philippines\n",
    "\n",
    "data_dummies['response'] = data_dummies['country_exploitation']\n",
    "data_dummies.loc[~data_dummies['response'].isin(['PH']), 'response'] = 'other'\n",
    "data_dummies['response_num'] = pd.factorize(data_dummies['response'])[0]\n",
    "\n",
    "# establish variables\n",
    "X = data_dummies[features]\n",
    "y = data_dummies['response_num']\n",
    "\n",
    "# import\n",
    "from sklearn.ensemble import RandomForestClassifier\n",
    "from sklearn.model_selection import train_test_split\n",
    "X_train, X_test, y_train, y_test = train_test_split(X,y, random_state = 89)\n",
    "\n",
    "# instantiate\n",
    "rf_clf = RandomForestClassifier()\n",
    "\n",
    "# fit\n",
    "rf_clf.fit(X_train, y_train)\n",
    "\n",
    "# predict\n",
    "probs = rf_clf.predict_proba(X_test)"
   ]
  },
  {
   "cell_type": "code",
   "execution_count": 1245,
   "metadata": {},
   "outputs": [
    {
     "data": {
      "text/html": [
       "<div>\n",
       "<style scoped>\n",
       "    .dataframe tbody tr th:only-of-type {\n",
       "        vertical-align: middle;\n",
       "    }\n",
       "\n",
       "    .dataframe tbody tr th {\n",
       "        vertical-align: top;\n",
       "    }\n",
       "\n",
       "    .dataframe thead th {\n",
       "        text-align: right;\n",
       "    }\n",
       "</style>\n",
       "<table border=\"1\" class=\"dataframe\">\n",
       "  <thead>\n",
       "    <tr style=\"text-align: right;\">\n",
       "      <th></th>\n",
       "      <th>predict</th>\n",
       "      <th>true</th>\n",
       "    </tr>\n",
       "  </thead>\n",
       "  <tbody>\n",
       "    <tr>\n",
       "      <th>0</th>\n",
       "      <td>0.000000</td>\n",
       "      <td>0.0</td>\n",
       "    </tr>\n",
       "    <tr>\n",
       "      <th>1</th>\n",
       "      <td>0.306183</td>\n",
       "      <td>1.0</td>\n",
       "    </tr>\n",
       "    <tr>\n",
       "      <th>2</th>\n",
       "      <td>0.000000</td>\n",
       "      <td>0.0</td>\n",
       "    </tr>\n",
       "    <tr>\n",
       "      <th>3</th>\n",
       "      <td>0.000000</td>\n",
       "      <td>0.0</td>\n",
       "    </tr>\n",
       "    <tr>\n",
       "      <th>4</th>\n",
       "      <td>0.000000</td>\n",
       "      <td>0.0</td>\n",
       "    </tr>\n",
       "    <tr>\n",
       "      <th>...</th>\n",
       "      <td>...</td>\n",
       "      <td>...</td>\n",
       "    </tr>\n",
       "    <tr>\n",
       "      <th>13854</th>\n",
       "      <td>0.000000</td>\n",
       "      <td>0.0</td>\n",
       "    </tr>\n",
       "    <tr>\n",
       "      <th>13855</th>\n",
       "      <td>0.139500</td>\n",
       "      <td>0.0</td>\n",
       "    </tr>\n",
       "    <tr>\n",
       "      <th>13856</th>\n",
       "      <td>0.000000</td>\n",
       "      <td>0.0</td>\n",
       "    </tr>\n",
       "    <tr>\n",
       "      <th>13857</th>\n",
       "      <td>0.139500</td>\n",
       "      <td>0.0</td>\n",
       "    </tr>\n",
       "    <tr>\n",
       "      <th>13858</th>\n",
       "      <td>0.000000</td>\n",
       "      <td>0.0</td>\n",
       "    </tr>\n",
       "  </tbody>\n",
       "</table>\n",
       "<p>13859 rows × 2 columns</p>\n",
       "</div>"
      ],
      "text/plain": [
       "        predict  true\n",
       "0      0.000000   0.0\n",
       "1      0.306183   1.0\n",
       "2      0.000000   0.0\n",
       "3      0.000000   0.0\n",
       "4      0.000000   0.0\n",
       "...         ...   ...\n",
       "13854  0.000000   0.0\n",
       "13855  0.139500   0.0\n",
       "13856  0.000000   0.0\n",
       "13857  0.139500   0.0\n",
       "13858  0.000000   0.0\n",
       "\n",
       "[13859 rows x 2 columns]"
      ]
     },
     "execution_count": 1245,
     "metadata": {},
     "output_type": "execute_result"
    }
   ],
   "source": [
    "predict_df = pd.DataFrame([probs[:, 1], y_test]\n",
    "                         ).transpose().rename(columns={0:'predict', 1:'true'})\n",
    "\n",
    "predict_df\n"
   ]
  },
  {
   "cell_type": "code",
   "execution_count": 1246,
   "metadata": {},
   "outputs": [
    {
     "data": {
      "image/png": "[encoded data removed]",
      "text/plain": [
       "<Figure size 1296x720 with 1 Axes>"
      ]
     },
     "metadata": {},
     "output_type": "display_data"
    }
   ],
   "source": [
    "## plot ROC\n",
    "font=16\n",
    "lw = 2\n",
    "fig = plt.figure(figsize=(18,10))\n",
    "ax = fig.add_subplot(111)\n",
    "\n",
    "roc_df = pd.DataFrame()\n",
    "fpr, tpr, thresholds = roc_curve(y_test, probs[:, 1])\n",
    "roc_auc = auc(fpr, tpr)\n",
    "\n",
    "ax.plot(fpr, tpr, lw=1, label='ROC(area = {})'.format(round(roc_auc, 2)))\n",
    "\n",
    "plt.plot([0, 1], [0, 1], color='black', lw=lw, linestyle='--', label='Luck')\n",
    "plt.xlim([-0.05, 1.05])\n",
    "plt.ylim([-0.05, 1.05])\n",
    "plt.xlabel('False Positive Rate', fontsize=font)\n",
    "plt.ylabel('True Positive Rate', fontsize=font)\n",
    "plt.title('Receiver operating characteristic - PH', fontsize=font+2)\n",
    "# plt.legend(bbox_to_anchor=(-0.1, 1),fontsize=font)\n",
    "ax.legend(loc='lower right')\n",
    "ax.annotate('AUC {}'.format(round(roc_auc, 2)), xy=(.6, .2), xytext=(.6, .2), fontsize=font)\n",
    "plt.grid()\n",
    "plt.show();"
   ]
  },
  {
   "cell_type": "code",
   "execution_count": 1247,
   "metadata": {},
   "outputs": [
    {
     "data": {
      "text/html": [
       "<div>\n",
       "<style scoped>\n",
       "    .dataframe tbody tr th:only-of-type {\n",
       "        vertical-align: middle;\n",
       "    }\n",
       "\n",
       "    .dataframe tbody tr th {\n",
       "        vertical-align: top;\n",
       "    }\n",
       "\n",
       "    .dataframe thead th {\n",
       "        text-align: right;\n",
       "    }\n",
       "</style>\n",
       "<table border=\"1\" class=\"dataframe\">\n",
       "  <thead>\n",
       "    <tr style=\"text-align: right;\">\n",
       "      <th></th>\n",
       "      <th>fpr</th>\n",
       "      <th>tpr</th>\n",
       "      <th>threshold</th>\n",
       "    </tr>\n",
       "  </thead>\n",
       "  <tbody>\n",
       "    <tr>\n",
       "      <th>0</th>\n",
       "      <td>0.000000</td>\n",
       "      <td>0.000000</td>\n",
       "      <td>1.333561</td>\n",
       "    </tr>\n",
       "    <tr>\n",
       "      <th>1</th>\n",
       "      <td>0.005698</td>\n",
       "      <td>0.055556</td>\n",
       "      <td>0.333561</td>\n",
       "    </tr>\n",
       "    <tr>\n",
       "      <th>2</th>\n",
       "      <td>0.036665</td>\n",
       "      <td>0.417625</td>\n",
       "      <td>0.306183</td>\n",
       "    </tr>\n",
       "    <tr>\n",
       "      <th>3</th>\n",
       "      <td>0.146285</td>\n",
       "      <td>0.927203</td>\n",
       "      <td>0.139500</td>\n",
       "    </tr>\n",
       "    <tr>\n",
       "      <th>4</th>\n",
       "      <td>0.152358</td>\n",
       "      <td>0.946360</td>\n",
       "      <td>0.128269</td>\n",
       "    </tr>\n",
       "    <tr>\n",
       "      <th>5</th>\n",
       "      <td>0.174852</td>\n",
       "      <td>1.000000</td>\n",
       "      <td>0.072925</td>\n",
       "    </tr>\n",
       "    <tr>\n",
       "      <th>6</th>\n",
       "      <td>1.000000</td>\n",
       "      <td>1.000000</td>\n",
       "      <td>0.000000</td>\n",
       "    </tr>\n",
       "  </tbody>\n",
       "</table>\n",
       "</div>"
      ],
      "text/plain": [
       "        fpr       tpr  threshold\n",
       "0  0.000000  0.000000   1.333561\n",
       "1  0.005698  0.055556   0.333561\n",
       "2  0.036665  0.417625   0.306183\n",
       "3  0.146285  0.927203   0.139500\n",
       "4  0.152358  0.946360   0.128269\n",
       "5  0.174852  1.000000   0.072925\n",
       "6  1.000000  1.000000   0.000000"
      ]
     },
     "execution_count": 1247,
     "metadata": {},
     "output_type": "execute_result"
    }
   ],
   "source": [
    "pd.DataFrame([fpr, tpr, thresholds]).transpose(\n",
    ").rename(columns={0: 'fpr', 1:'tpr', 2: 'threshold'})\n",
    "# we have to select the lower threshold with the least amount of fpr & tpr\n",
    "# that would be 0.135824"
   ]
  },
  {
   "cell_type": "code",
   "execution_count": 1270,
   "metadata": {},
   "outputs": [
    {
     "data": {
      "text/html": [
       "<div>\n",
       "<style scoped>\n",
       "    .dataframe tbody tr th:only-of-type {\n",
       "        vertical-align: middle;\n",
       "    }\n",
       "\n",
       "    .dataframe tbody tr th {\n",
       "        vertical-align: top;\n",
       "    }\n",
       "\n",
       "    .dataframe thead th {\n",
       "        text-align: right;\n",
       "    }\n",
       "</style>\n",
       "<table border=\"1\" class=\"dataframe\">\n",
       "  <thead>\n",
       "    <tr style=\"text-align: right;\">\n",
       "      <th></th>\n",
       "      <th>predict</th>\n",
       "      <th>true</th>\n",
       "      <th>predict_binary</th>\n",
       "    </tr>\n",
       "  </thead>\n",
       "  <tbody>\n",
       "    <tr>\n",
       "      <th>0</th>\n",
       "      <td>0.000094</td>\n",
       "      <td>0.0</td>\n",
       "      <td>0</td>\n",
       "    </tr>\n",
       "    <tr>\n",
       "      <th>1</th>\n",
       "      <td>0.141710</td>\n",
       "      <td>0.0</td>\n",
       "      <td>1</td>\n",
       "    </tr>\n",
       "    <tr>\n",
       "      <th>2</th>\n",
       "      <td>0.000360</td>\n",
       "      <td>0.0</td>\n",
       "      <td>0</td>\n",
       "    </tr>\n",
       "    <tr>\n",
       "      <th>3</th>\n",
       "      <td>0.000323</td>\n",
       "      <td>0.0</td>\n",
       "      <td>0</td>\n",
       "    </tr>\n",
       "    <tr>\n",
       "      <th>4</th>\n",
       "      <td>0.000195</td>\n",
       "      <td>0.0</td>\n",
       "      <td>0</td>\n",
       "    </tr>\n",
       "    <tr>\n",
       "      <th>...</th>\n",
       "      <td>...</td>\n",
       "      <td>...</td>\n",
       "      <td>...</td>\n",
       "    </tr>\n",
       "    <tr>\n",
       "      <th>13854</th>\n",
       "      <td>0.141710</td>\n",
       "      <td>1.0</td>\n",
       "      <td>1</td>\n",
       "    </tr>\n",
       "    <tr>\n",
       "      <th>13855</th>\n",
       "      <td>0.000728</td>\n",
       "      <td>0.0</td>\n",
       "      <td>0</td>\n",
       "    </tr>\n",
       "    <tr>\n",
       "      <th>13856</th>\n",
       "      <td>0.000673</td>\n",
       "      <td>0.0</td>\n",
       "      <td>0</td>\n",
       "    </tr>\n",
       "    <tr>\n",
       "      <th>13857</th>\n",
       "      <td>0.000864</td>\n",
       "      <td>0.0</td>\n",
       "      <td>0</td>\n",
       "    </tr>\n",
       "    <tr>\n",
       "      <th>13858</th>\n",
       "      <td>0.000701</td>\n",
       "      <td>0.0</td>\n",
       "      <td>0</td>\n",
       "    </tr>\n",
       "  </tbody>\n",
       "</table>\n",
       "<p>13859 rows × 3 columns</p>\n",
       "</div>"
      ],
      "text/plain": [
       "        predict  true  predict_binary\n",
       "0      0.000094   0.0               0\n",
       "1      0.141710   0.0               1\n",
       "2      0.000360   0.0               0\n",
       "3      0.000323   0.0               0\n",
       "4      0.000195   0.0               0\n",
       "...         ...   ...             ...\n",
       "13854  0.141710   1.0               1\n",
       "13855  0.000728   0.0               0\n",
       "13856  0.000673   0.0               0\n",
       "13857  0.000864   0.0               0\n",
       "13858  0.000701   0.0               0\n",
       "\n",
       "[13859 rows x 3 columns]"
      ]
     },
     "execution_count": 1270,
     "metadata": {},
     "output_type": "execute_result"
    }
   ],
   "source": [
    "threshold = 0.139500\n",
    "predict_df['predict_binary'] = 0\n",
    "predict_df.loc[predict_df['predict'] > threshold, 'predict_binary'] = 1\n",
    "predict_df"
   ]
  },
  {
   "cell_type": "code",
   "execution_count": 1249,
   "metadata": {},
   "outputs": [
    {
     "data": {
      "text/plain": [
       "0.85648315174255"
      ]
     },
     "execution_count": 1249,
     "metadata": {},
     "output_type": "execute_result"
    }
   ],
   "source": [
    "# baseline\n",
    "sum(predict_df['predict_binary'] == predict_df['true']) / len(predict_df)"
   ]
  },
  {
   "cell_type": "code",
   "execution_count": 1250,
   "metadata": {},
   "outputs": [
    {
     "data": {
      "text/plain": [
       "0.9272030651340997"
      ]
     },
     "execution_count": 1250,
     "metadata": {},
     "output_type": "execute_result"
    }
   ],
   "source": [
    "# accuracy\n",
    "tmp = predict_df.loc[predict_df['true'] == 1]\n",
    "sum(tmp['predict_binary'] == tmp['true']) / len(tmp)"
   ]
  },
  {
   "cell_type": "code",
   "execution_count": 1251,
   "metadata": {},
   "outputs": [],
   "source": [
    "# The accuracy of selecting Phillipines is 92%, beating my baseline of 85%"
   ]
  },
  {
   "cell_type": "code",
   "execution_count": 1252,
   "metadata": {
    "scrolled": true
   },
   "outputs": [
    {
     "data": {
      "text/plain": [
       "[('Forced labour', 0.06944831210021765),\n",
       " ('Forced marriage', 2.3154456068463182e-05),\n",
       " ('Other', 0.12895275822921007),\n",
       " ('Sexual exploitation', 0.040335550470131445),\n",
       " ('Slavery and similar practices', 0.00628929014294711),\n",
       " ('Albania', 5.5399467261872565e-06),\n",
       " ('Bangladesh', 1.0796407226438572e-06),\n",
       " ('Belarus', 0.007216617847797084),\n",
       " ('Bolivia (Plurinational State of)', 0.0),\n",
       " ('Bulgaria', 0.0007699667298937845),\n",
       " ('Burkina Faso', 3.895563699710025e-06),\n",
       " ('Cambodia', 0.0017799998260581544),\n",
       " ('China', 3.985465122947598e-06),\n",
       " ('Colombia', 1.0879337155893359e-06),\n",
       " ('Congo (the Democratic Republic of the)', 8.669939557012193e-06),\n",
       " (\"Côte d'Ivoire\", 0.0),\n",
       " ('El Salvador', 2.5809451299721372e-05),\n",
       " ('Eritrea', 9.882416512231383e-05),\n",
       " ('Ghana', 0.00019245698597141582),\n",
       " ('Guinea', 5.3017019453473355e-05),\n",
       " ('Guinea-Bissau', 7.143748520290593e-05),\n",
       " ('Haiti', 0.0007061697570136955),\n",
       " ('India', 0.0),\n",
       " ('Indonesia', 0.005186092829243843),\n",
       " ('Kazakhstan', 1.18067591457198e-07),\n",
       " ('Korea (the Republic of)', 4.221061891958997e-07),\n",
       " ('Kyrgyzstan', 0.0009572239332879655),\n",
       " (\"Lao People's Democratic Republic (the)\", 0.00047308293039131894),\n",
       " ('Madagascar', 3.417559431377361e-05),\n",
       " ('Mali', 7.675345023660412e-06),\n",
       " ('Mexico', 5.517702836394466e-05),\n",
       " ('Moldova (the Republic of)', 0.019124622996121367),\n",
       " ('Myanmar', 0.010275632731923081),\n",
       " ('Nepal', 0.00017835347274363628),\n",
       " ('Niger (the)', 3.5894991713066545e-06),\n",
       " ('Nigeria', 0.0),\n",
       " ('Philippines (the)', 0.6839828983620599),\n",
       " ('Romania', 0.0007245743921377643),\n",
       " ('Senegal', 8.138901382408264e-06),\n",
       " ('Sierra Leone', 0.0002612003361169158),\n",
       " ('Sri Lanka', 0.0003774790341343136),\n",
       " ('Tajikistan', 4.130846735635192e-05),\n",
       " ('Thailand', 0.0004237758059726339),\n",
       " ('Turkmenistan', 4.270484708307754e-06),\n",
       " ('Uganda', 0.0),\n",
       " ('Ukraine', 0.018015638078422276),\n",
       " ('United States of America (the)', 0.0033461875724007223),\n",
       " ('Uzbekistan', 0.00038638261032859073),\n",
       " ('Viet Nam', 0.00014435626468375557)]"
      ]
     },
     "execution_count": 1252,
     "metadata": {},
     "output_type": "execute_result"
    }
   ],
   "source": [
    "# feature importance\n",
    "list(zip(X_train, rf_clf.feature_importances_))"
   ]
  },
  {
   "cell_type": "markdown",
   "metadata": {},
   "source": [
    "# Logistic Regression"
   ]
  },
  {
   "cell_type": "code",
   "execution_count": 1253,
   "metadata": {},
   "outputs": [
    {
     "name": "stderr",
     "output_type": "stream",
     "text": [
      "C:\\Users\\algc_\\Anaconda3\\lib\\site-packages\\sklearn\\linear_model\\logistic.py:432: FutureWarning: Default solver will be changed to 'lbfgs' in 0.22. Specify a solver to silence this warning.\n",
      "  FutureWarning)\n"
     ]
    },
    {
     "data": {
      "text/plain": [
       "0.9626957211920052"
      ]
     },
     "execution_count": 1253,
     "metadata": {},
     "output_type": "execute_result"
    }
   ],
   "source": [
    "data_dummies['response'] = data_dummies['country_exploitation']\n",
    "data_dummies.loc[~data_dummies['response'].isin(['PH']), 'response'] = 'other'\n",
    "data_dummies['response_num'] = pd.factorize(data_dummies['response'])[0]\n",
    "\n",
    "\n",
    "from sklearn.linear_model import LogisticRegression\n",
    "\n",
    "logreg = LogisticRegression()\n",
    "\n",
    "feature_cols = ['Forced labour', 'Forced marriage', 'Other',\n",
    "       'Sexual exploitation', 'Slavery and similar practices', 'Albania',\n",
    "       'Bangladesh', 'Belarus', 'Bolivia (Plurinational State of)', 'Bulgaria',\n",
    "       'Burkina Faso', 'Cambodia', 'China', 'Colombia',\n",
    "       'Congo (the Democratic Republic of the)', \"Côte d'Ivoire\",\n",
    "       'El Salvador', 'Eritrea', 'Ghana', 'Guinea', 'Guinea-Bissau', 'Haiti',\n",
    "       'India', 'Indonesia', 'Kazakhstan', 'Korea (the Republic of)',\n",
    "       'Kyrgyzstan', \"Lao People's Democratic Republic (the)\", 'Madagascar',\n",
    "       'Mali', 'Mexico', 'Moldova (the Republic of)', 'Myanmar', 'Nepal',\n",
    "       'Niger (the)', 'Nigeria', 'Philippines (the)', 'Romania', 'Senegal',\n",
    "       'Sierra Leone', 'Sri Lanka', 'Tajikistan', 'Thailand', 'Turkmenistan',\n",
    "       'Uganda', 'Ukraine', 'United States of America (the)', 'Uzbekistan',\n",
    "       'Viet Nam'] \n",
    "\n",
    "X = data_dummies[feature_cols]\n",
    "y = data_dummies.response_num\n",
    "\n",
    "from sklearn.model_selection import train_test_split\n",
    "\n",
    "X_train, X_test, y_train, y_test = train_test_split(X,y)\n",
    "\n",
    "logreg.fit(X_train,y_train)\n",
    "\n",
    "probs = logreg.predict_proba(X_test)\n",
    "\n",
    "logreg.score(X_test, y_test)"
   ]
  },
  {
   "cell_type": "code",
   "execution_count": 1254,
   "metadata": {
    "scrolled": true
   },
   "outputs": [
    {
     "data": {
      "text/plain": [
       "0    0.964138\n",
       "1    0.035862\n",
       "Name: response_num, dtype: float64"
      ]
     },
     "execution_count": 1254,
     "metadata": {},
     "output_type": "execute_result"
    }
   ],
   "source": [
    "y.value_counts()/y.count()"
   ]
  },
  {
   "cell_type": "code",
   "execution_count": 1255,
   "metadata": {
    "scrolled": true
   },
   "outputs": [
    {
     "data": {
      "text/html": [
       "<div>\n",
       "<style scoped>\n",
       "    .dataframe tbody tr th:only-of-type {\n",
       "        vertical-align: middle;\n",
       "    }\n",
       "\n",
       "    .dataframe tbody tr th {\n",
       "        vertical-align: top;\n",
       "    }\n",
       "\n",
       "    .dataframe thead th {\n",
       "        text-align: right;\n",
       "    }\n",
       "</style>\n",
       "<table border=\"1\" class=\"dataframe\">\n",
       "  <thead>\n",
       "    <tr style=\"text-align: right;\">\n",
       "      <th></th>\n",
       "      <th>predict</th>\n",
       "      <th>true</th>\n",
       "    </tr>\n",
       "  </thead>\n",
       "  <tbody>\n",
       "    <tr>\n",
       "      <th>0</th>\n",
       "      <td>0.000094</td>\n",
       "      <td>0.0</td>\n",
       "    </tr>\n",
       "    <tr>\n",
       "      <th>1</th>\n",
       "      <td>0.141710</td>\n",
       "      <td>0.0</td>\n",
       "    </tr>\n",
       "    <tr>\n",
       "      <th>2</th>\n",
       "      <td>0.000360</td>\n",
       "      <td>0.0</td>\n",
       "    </tr>\n",
       "    <tr>\n",
       "      <th>3</th>\n",
       "      <td>0.000323</td>\n",
       "      <td>0.0</td>\n",
       "    </tr>\n",
       "    <tr>\n",
       "      <th>4</th>\n",
       "      <td>0.000195</td>\n",
       "      <td>0.0</td>\n",
       "    </tr>\n",
       "    <tr>\n",
       "      <th>...</th>\n",
       "      <td>...</td>\n",
       "      <td>...</td>\n",
       "    </tr>\n",
       "    <tr>\n",
       "      <th>13854</th>\n",
       "      <td>0.141710</td>\n",
       "      <td>1.0</td>\n",
       "    </tr>\n",
       "    <tr>\n",
       "      <th>13855</th>\n",
       "      <td>0.000728</td>\n",
       "      <td>0.0</td>\n",
       "    </tr>\n",
       "    <tr>\n",
       "      <th>13856</th>\n",
       "      <td>0.000673</td>\n",
       "      <td>0.0</td>\n",
       "    </tr>\n",
       "    <tr>\n",
       "      <th>13857</th>\n",
       "      <td>0.000864</td>\n",
       "      <td>0.0</td>\n",
       "    </tr>\n",
       "    <tr>\n",
       "      <th>13858</th>\n",
       "      <td>0.000701</td>\n",
       "      <td>0.0</td>\n",
       "    </tr>\n",
       "  </tbody>\n",
       "</table>\n",
       "<p>13859 rows × 2 columns</p>\n",
       "</div>"
      ],
      "text/plain": [
       "        predict  true\n",
       "0      0.000094   0.0\n",
       "1      0.141710   0.0\n",
       "2      0.000360   0.0\n",
       "3      0.000323   0.0\n",
       "4      0.000195   0.0\n",
       "...         ...   ...\n",
       "13854  0.141710   1.0\n",
       "13855  0.000728   0.0\n",
       "13856  0.000673   0.0\n",
       "13857  0.000864   0.0\n",
       "13858  0.000701   0.0\n",
       "\n",
       "[13859 rows x 2 columns]"
      ]
     },
     "execution_count": 1255,
     "metadata": {},
     "output_type": "execute_result"
    }
   ],
   "source": [
    "predict_df = pd.DataFrame([probs[:, 1], y_test]).transpose().rename(columns={0:'predict', 1:'true'})\n",
    "\n",
    "predict_df"
   ]
  },
  {
   "cell_type": "code",
   "execution_count": 1256,
   "metadata": {},
   "outputs": [
    {
     "data": {
      "text/html": [
       "<div>\n",
       "<style scoped>\n",
       "    .dataframe tbody tr th:only-of-type {\n",
       "        vertical-align: middle;\n",
       "    }\n",
       "\n",
       "    .dataframe tbody tr th {\n",
       "        vertical-align: top;\n",
       "    }\n",
       "\n",
       "    .dataframe thead th {\n",
       "        text-align: right;\n",
       "    }\n",
       "</style>\n",
       "<table border=\"1\" class=\"dataframe\">\n",
       "  <thead>\n",
       "    <tr style=\"text-align: right;\">\n",
       "      <th></th>\n",
       "      <th>fpr</th>\n",
       "      <th>tpr</th>\n",
       "      <th>threshold</th>\n",
       "    </tr>\n",
       "  </thead>\n",
       "  <tbody>\n",
       "    <tr>\n",
       "      <th>0</th>\n",
       "      <td>0.000000</td>\n",
       "      <td>0.000000</td>\n",
       "      <td>1.333561</td>\n",
       "    </tr>\n",
       "    <tr>\n",
       "      <th>1</th>\n",
       "      <td>0.005698</td>\n",
       "      <td>0.055556</td>\n",
       "      <td>0.333561</td>\n",
       "    </tr>\n",
       "    <tr>\n",
       "      <th>2</th>\n",
       "      <td>0.036665</td>\n",
       "      <td>0.417625</td>\n",
       "      <td>0.306183</td>\n",
       "    </tr>\n",
       "    <tr>\n",
       "      <th>3</th>\n",
       "      <td>0.146285</td>\n",
       "      <td>0.927203</td>\n",
       "      <td>0.139500</td>\n",
       "    </tr>\n",
       "    <tr>\n",
       "      <th>4</th>\n",
       "      <td>0.152358</td>\n",
       "      <td>0.946360</td>\n",
       "      <td>0.128269</td>\n",
       "    </tr>\n",
       "    <tr>\n",
       "      <th>5</th>\n",
       "      <td>0.174852</td>\n",
       "      <td>1.000000</td>\n",
       "      <td>0.072925</td>\n",
       "    </tr>\n",
       "    <tr>\n",
       "      <th>6</th>\n",
       "      <td>1.000000</td>\n",
       "      <td>1.000000</td>\n",
       "      <td>0.000000</td>\n",
       "    </tr>\n",
       "  </tbody>\n",
       "</table>\n",
       "</div>"
      ],
      "text/plain": [
       "        fpr       tpr  threshold\n",
       "0  0.000000  0.000000   1.333561\n",
       "1  0.005698  0.055556   0.333561\n",
       "2  0.036665  0.417625   0.306183\n",
       "3  0.146285  0.927203   0.139500\n",
       "4  0.152358  0.946360   0.128269\n",
       "5  0.174852  1.000000   0.072925\n",
       "6  1.000000  1.000000   0.000000"
      ]
     },
     "execution_count": 1256,
     "metadata": {},
     "output_type": "execute_result"
    }
   ],
   "source": [
    "pd.DataFrame([fpr, tpr, thresholds]).transpose(\n",
    ").rename(columns={0: 'fpr', 1:'tpr', 2: 'threshold'})"
   ]
  },
  {
   "cell_type": "code",
   "execution_count": 1257,
   "metadata": {},
   "outputs": [
    {
     "data": {
      "text/html": [
       "<div>\n",
       "<style scoped>\n",
       "    .dataframe tbody tr th:only-of-type {\n",
       "        vertical-align: middle;\n",
       "    }\n",
       "\n",
       "    .dataframe tbody tr th {\n",
       "        vertical-align: top;\n",
       "    }\n",
       "\n",
       "    .dataframe thead th {\n",
       "        text-align: right;\n",
       "    }\n",
       "</style>\n",
       "<table border=\"1\" class=\"dataframe\">\n",
       "  <thead>\n",
       "    <tr style=\"text-align: right;\">\n",
       "      <th></th>\n",
       "      <th>predict</th>\n",
       "      <th>true</th>\n",
       "      <th>predict_binary</th>\n",
       "    </tr>\n",
       "  </thead>\n",
       "  <tbody>\n",
       "    <tr>\n",
       "      <th>0</th>\n",
       "      <td>0.000094</td>\n",
       "      <td>0.0</td>\n",
       "      <td>0</td>\n",
       "    </tr>\n",
       "    <tr>\n",
       "      <th>1</th>\n",
       "      <td>0.141710</td>\n",
       "      <td>0.0</td>\n",
       "      <td>1</td>\n",
       "    </tr>\n",
       "    <tr>\n",
       "      <th>2</th>\n",
       "      <td>0.000360</td>\n",
       "      <td>0.0</td>\n",
       "      <td>0</td>\n",
       "    </tr>\n",
       "    <tr>\n",
       "      <th>3</th>\n",
       "      <td>0.000323</td>\n",
       "      <td>0.0</td>\n",
       "      <td>0</td>\n",
       "    </tr>\n",
       "    <tr>\n",
       "      <th>4</th>\n",
       "      <td>0.000195</td>\n",
       "      <td>0.0</td>\n",
       "      <td>0</td>\n",
       "    </tr>\n",
       "    <tr>\n",
       "      <th>...</th>\n",
       "      <td>...</td>\n",
       "      <td>...</td>\n",
       "      <td>...</td>\n",
       "    </tr>\n",
       "    <tr>\n",
       "      <th>13854</th>\n",
       "      <td>0.141710</td>\n",
       "      <td>1.0</td>\n",
       "      <td>1</td>\n",
       "    </tr>\n",
       "    <tr>\n",
       "      <th>13855</th>\n",
       "      <td>0.000728</td>\n",
       "      <td>0.0</td>\n",
       "      <td>0</td>\n",
       "    </tr>\n",
       "    <tr>\n",
       "      <th>13856</th>\n",
       "      <td>0.000673</td>\n",
       "      <td>0.0</td>\n",
       "      <td>0</td>\n",
       "    </tr>\n",
       "    <tr>\n",
       "      <th>13857</th>\n",
       "      <td>0.000864</td>\n",
       "      <td>0.0</td>\n",
       "      <td>0</td>\n",
       "    </tr>\n",
       "    <tr>\n",
       "      <th>13858</th>\n",
       "      <td>0.000701</td>\n",
       "      <td>0.0</td>\n",
       "      <td>0</td>\n",
       "    </tr>\n",
       "  </tbody>\n",
       "</table>\n",
       "<p>13859 rows × 3 columns</p>\n",
       "</div>"
      ],
      "text/plain": [
       "        predict  true  predict_binary\n",
       "0      0.000094   0.0               0\n",
       "1      0.141710   0.0               1\n",
       "2      0.000360   0.0               0\n",
       "3      0.000323   0.0               0\n",
       "4      0.000195   0.0               0\n",
       "...         ...   ...             ...\n",
       "13854  0.141710   1.0               1\n",
       "13855  0.000728   0.0               0\n",
       "13856  0.000673   0.0               0\n",
       "13857  0.000864   0.0               0\n",
       "13858  0.000701   0.0               0\n",
       "\n",
       "[13859 rows x 3 columns]"
      ]
     },
     "execution_count": 1257,
     "metadata": {},
     "output_type": "execute_result"
    }
   ],
   "source": [
    "threshold = 0.136791\n",
    "predict_df['predict_binary'] = 0\n",
    "predict_df.loc[predict_df['predict'] > threshold, 'predict_binary'] = 1\n",
    "predict_df"
   ]
  },
  {
   "cell_type": "code",
   "execution_count": 1258,
   "metadata": {},
   "outputs": [
    {
     "data": {
      "text/plain": [
       "0.8491954686485317"
      ]
     },
     "execution_count": 1258,
     "metadata": {},
     "output_type": "execute_result"
    }
   ],
   "source": [
    "# probability that the country is Philippines\n",
    "sum(predict_df['predict_binary'] == predict_df['true']) / len(predict_df)"
   ]
  },
  {
   "cell_type": "code",
   "execution_count": 1259,
   "metadata": {},
   "outputs": [
    {
     "data": {
      "text/plain": [
       "0.9400386847195358"
      ]
     },
     "execution_count": 1259,
     "metadata": {},
     "output_type": "execute_result"
    }
   ],
   "source": [
    "# model accuracy\n",
    "tmp = predict_df.loc[predict_df['true'] == 1]\n",
    "sum(tmp['predict_binary'] == tmp['true']) / len(tmp)"
   ]
  },
  {
   "cell_type": "markdown",
   "metadata": {},
   "source": [
    "### Evaluation"
   ]
  },
  {
   "cell_type": "code",
   "execution_count": 1260,
   "metadata": {},
   "outputs": [
    {
     "data": {
      "text/plain": [
       "0.9626957211920052"
      ]
     },
     "execution_count": 1260,
     "metadata": {},
     "output_type": "execute_result"
    }
   ],
   "source": [
    "# accuracy\n",
    "y_pred = logreg.predict(X_test)\n",
    "metrics.accuracy_score(y_test,y_pred)"
   ]
  },
  {
   "cell_type": "code",
   "execution_count": 1261,
   "metadata": {},
   "outputs": [
    {
     "data": {
      "text/plain": [
       "0.9626957211920052"
      ]
     },
     "execution_count": 1261,
     "metadata": {},
     "output_type": "execute_result"
    }
   ],
   "source": [
    "metrics.accuracy_score(y_test, y_pred)"
   ]
  },
  {
   "cell_type": "code",
   "execution_count": 1262,
   "metadata": {},
   "outputs": [
    {
     "data": {
      "text/plain": [
       "array([[9.99804707e-01, 1.95293250e-04],\n",
       "       [9.99804707e-01, 1.95293250e-04],\n",
       "       [9.99804707e-01, 1.95293250e-04],\n",
       "       [9.99190762e-01, 8.09238233e-04],\n",
       "       [9.99190762e-01, 8.09238233e-04],\n",
       "       [9.99190762e-01, 8.09238233e-04],\n",
       "       [9.99190762e-01, 8.09238233e-04],\n",
       "       [9.99190762e-01, 8.09238233e-04],\n",
       "       [9.99190762e-01, 8.09238233e-04],\n",
       "       [9.99190762e-01, 8.09238233e-04]])"
      ]
     },
     "execution_count": 1262,
     "metadata": {},
     "output_type": "execute_result"
    }
   ],
   "source": [
    "logreg.predict_proba(X)[10:20]\n",
    "# array [0, 1]\n",
    "# 0 = other, 1 = PH"
   ]
  },
  {
   "cell_type": "code",
   "execution_count": 1263,
   "metadata": {},
   "outputs": [
    {
     "data": {
      "text/plain": [
       "0.5"
      ]
     },
     "execution_count": 1263,
     "metadata": {},
     "output_type": "execute_result"
    }
   ],
   "source": [
    "# roc_auc score\n",
    "metrics.roc_auc_score(y_test,y_pred)"
   ]
  },
  {
   "cell_type": "code",
   "execution_count": 1264,
   "metadata": {},
   "outputs": [
    {
     "data": {
      "text/plain": [
       "1.2884441443227386"
      ]
     },
     "execution_count": 1264,
     "metadata": {},
     "output_type": "execute_result"
    }
   ],
   "source": [
    "metrics.log_loss(y_test,y_pred)"
   ]
  },
  {
   "cell_type": "markdown",
   "metadata": {},
   "source": [
    "#### Confusion Matrix"
   ]
  },
  {
   "cell_type": "code",
   "execution_count": 1265,
   "metadata": {},
   "outputs": [
    {
     "data": {
      "text/plain": [
       "array([[13342,     0],\n",
       "       [  517,     0]], dtype=int64)"
      ]
     },
     "execution_count": 1265,
     "metadata": {},
     "output_type": "execute_result"
    }
   ],
   "source": [
    "from sklearn.metrics import confusion_matrix\n",
    "\n",
    "confusion_matrix(y_test, y_pred)"
   ]
  },
  {
   "cell_type": "code",
   "execution_count": 1266,
   "metadata": {},
   "outputs": [
    {
     "name": "stdout",
     "output_type": "stream",
     "text": [
      "Confusion matrix, without normalization\n",
      "[[13342     0]\n",
      " [  517     0]]\n"
     ]
    },
    {
     "data": {
      "image/png": "[encoded data removed]",
      "text/plain": [
       "<Figure size 1440x720 with 2 Axes>"
      ]
     },
     "metadata": {},
     "output_type": "display_data"
    }
   ],
   "source": [
    "cnf_matrix = confusion_matrix(y_test, y_pred)\n",
    "class_names = ['other', 'PH']\n",
    "\n",
    "plt.figure(figsize=(20, 10))\n",
    "sns.set(font_scale=1.4)\n",
    "plot_confusion_matrix(cnf_matrix, classes=class_names,\n",
    "                      title='Confusion matrix', cmap='binary')"
   ]
  },
  {
   "cell_type": "markdown",
   "metadata": {},
   "source": [
    "#### Classification Report"
   ]
  },
  {
   "cell_type": "code",
   "execution_count": 1267,
   "metadata": {},
   "outputs": [
    {
     "name": "stdout",
     "output_type": "stream",
     "text": [
      "              precision    recall  f1-score   support\n",
      "\n",
      "           0       0.96      1.00      0.98     13342\n",
      "           1       0.00      0.00      0.00       517\n",
      "\n",
      "    accuracy                           0.96     13859\n",
      "   macro avg       0.48      0.50      0.49     13859\n",
      "weighted avg       0.93      0.96      0.94     13859\n",
      "\n"
     ]
    },
    {
     "name": "stderr",
     "output_type": "stream",
     "text": [
      "C:\\Users\\algc_\\Anaconda3\\lib\\site-packages\\sklearn\\metrics\\classification.py:1437: UndefinedMetricWarning: Precision and F-score are ill-defined and being set to 0.0 in labels with no predicted samples.\n",
      "  'precision', 'predicted', average, warn_for)\n"
     ]
    }
   ],
   "source": [
    "from sklearn.metrics import classification_report\n",
    "\n",
    "print(classification_report(y_test, y_pred))"
   ]
  },
  {
   "cell_type": "markdown",
   "metadata": {},
   "source": [
    "Recall gives us an idea about when it's actually yes, how often does it predict yes: 98%\n",
    "\n",
    "Precision tells us about when it predicts yes, how often is it correct: 98%"
   ]
  },
  {
   "cell_type": "markdown",
   "metadata": {},
   "source": [
    "#### Probabilities"
   ]
  },
  {
   "cell_type": "code",
   "execution_count": 1268,
   "metadata": {},
   "outputs": [
    {
     "data": {
      "text/plain": [
       "array([[9.99905888e-01, 9.41124970e-05],\n",
       "       [8.58289639e-01, 1.41710361e-01],\n",
       "       [9.99640456e-01, 3.59543575e-04],\n",
       "       ...,\n",
       "       [9.99326642e-01, 6.73357914e-04],\n",
       "       [9.99135942e-01, 8.64057833e-04],\n",
       "       [9.99298671e-01, 7.01329335e-04]])"
      ]
     },
     "execution_count": 1268,
     "metadata": {},
     "output_type": "execute_result"
    }
   ],
   "source": [
    "y_pp = logreg.predict_proba(X_test)\n",
    "y_pp\n",
    "# first column, the probability of response_num = 0 (other),\n",
    "# the second column, probability of response_num = 1 (PH)."
   ]
  },
  {
   "cell_type": "code",
   "execution_count": 1269,
   "metadata": {
    "scrolled": false
   },
   "outputs": [
    {
     "data": {
      "image/png": "[encoded data removed]",
      "text/plain": [
       "<Figure size 432x288 with 1 Axes>"
      ]
     },
     "metadata": {
      "needs_background": "light"
     },
     "output_type": "display_data"
    },
    {
     "data": {
      "text/plain": [
       "(array([10961.,     0.,   353.,     0.,  1833.,     0.,     0.,     0.,\n",
       "            0.,   712.]),\n",
       " array([7.29597886e-05, 2.95203736e-02, 5.89677875e-02, 8.84152014e-02,\n",
       "        1.17862615e-01, 1.47310029e-01, 1.76757443e-01, 2.06204857e-01,\n",
       "        2.35652271e-01, 2.65099684e-01, 2.94547098e-01]),\n",
       " <a list of 10 Patch objects>)"
      ]
     },
     "execution_count": 1269,
     "metadata": {},
     "output_type": "execute_result"
    },
    {
     "data": {
      "image/png": "[encoded data removed]",
      "text/plain": [
       "<Figure size 432x288 with 1 Axes>"
      ]
     },
     "metadata": {
      "needs_background": "light"
     },
     "output_type": "display_data"
    }
   ],
   "source": [
    "y_pp_t = y_pp.transpose()\n",
    "\n",
    "import matplotlib.pyplot as plt\n",
    "%matplotlib inline\n",
    "plt.hist(y_pp_t[0], color='#f6c851')\n",
    "plt.show()\n",
    "plt.hist(y_pp_t[1], color='#f6c851')"
   ]
  },
  {
   "cell_type": "code",
   "execution_count": null,
   "metadata": {},
   "outputs": [],
   "source": []
  },
  {
   "cell_type": "code",
   "execution_count": null,
   "metadata": {},
   "outputs": [],
   "source": []
  },
  {
   "cell_type": "code",
   "execution_count": null,
   "metadata": {},
   "outputs": [],
   "source": []
  },
  {
   "cell_type": "code",
   "execution_count": null,
   "metadata": {},
   "outputs": [],
   "source": []
  },
  {
   "cell_type": "code",
   "execution_count": null,
   "metadata": {},
   "outputs": [],
   "source": []
  },
  {
   "cell_type": "code",
   "execution_count": null,
   "metadata": {},
   "outputs": [],
   "source": []
  },
  {
   "cell_type": "code",
   "execution_count": null,
   "metadata": {},
   "outputs": [],
   "source": []
  },
  {
   "cell_type": "code",
   "execution_count": null,
   "metadata": {},
   "outputs": [],
   "source": []
  }
 ],
 "metadata": {
  "kernelspec": {
   "display_name": "Python 3",
   "language": "python",
   "name": "python3"
  },
  "language_info": {
   "codemirror_mode": {
    "name": "ipython",
    "version": 3
   },
   "file_extension": ".py",
   "mimetype": "text/x-python",
   "name": "python",
   "nbconvert_exporter": "python",
   "pygments_lexer": "ipython3",
   "version": "3.7.4"
  }
 },
 "nbformat": 4,
 "nbformat_minor": 2
}
